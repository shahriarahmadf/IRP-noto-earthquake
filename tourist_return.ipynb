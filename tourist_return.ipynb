{
 "cells": [
  {
   "cell_type": "code",
   "execution_count": 1,
   "metadata": {},
   "outputs": [
    {
     "name": "stdout",
     "output_type": "stream",
     "text": [
      "1\n",
      "20240101 dataframe shape\n",
      "(85653, 18)\n"
     ]
    }
   ],
   "source": [
    "# DATA LOADING\n",
    "\n",
    "from mobility_data_loader import mobility_data_loader\n",
    "\n",
    "# Process whole dataset into intermediate form\n",
    "dataframe = mobility_data_loader('20240101','20240101')"
   ]
  },
  {
   "cell_type": "code",
   "execution_count": 3,
   "metadata": {},
   "outputs": [],
   "source": [
    "df = dataframe['20240101']"
   ]
  },
  {
   "cell_type": "code",
   "execution_count": 7,
   "metadata": {},
   "outputs": [
    {
     "data": {
      "text/html": [
       "<div>\n",
       "<style scoped>\n",
       "    .dataframe tbody tr th:only-of-type {\n",
       "        vertical-align: middle;\n",
       "    }\n",
       "\n",
       "    .dataframe tbody tr th {\n",
       "        vertical-align: top;\n",
       "    }\n",
       "\n",
       "    .dataframe thead th {\n",
       "        text-align: right;\n",
       "    }\n",
       "</style>\n",
       "<table border=\"1\" class=\"dataframe\">\n",
       "  <thead>\n",
       "    <tr style=\"text-align: right;\">\n",
       "      <th></th>\n",
       "      <th>common_id</th>\n",
       "      <th>latitude_o</th>\n",
       "      <th>longitude_o</th>\n",
       "      <th>arrive_time_o</th>\n",
       "      <th>stay_time_o</th>\n",
       "      <th>depart_time_o</th>\n",
       "      <th>move_time</th>\n",
       "      <th>mode</th>\n",
       "      <th>latitude_d</th>\n",
       "      <th>longitude_d</th>\n",
       "      <th>arrive_time_d</th>\n",
       "      <th>stay_time_d</th>\n",
       "      <th>depart_time_d</th>\n",
       "      <th>purpose_flg</th>\n",
       "      <th>latitude_h</th>\n",
       "      <th>longitude_h</th>\n",
       "      <th>latitude_w</th>\n",
       "      <th>longitude_w</th>\n",
       "    </tr>\n",
       "  </thead>\n",
       "  <tbody>\n",
       "    <tr>\n",
       "      <th>0</th>\n",
       "      <td>67e6401f1f6460684eed82521ce87f02</td>\n",
       "      <td>34.680007</td>\n",
       "      <td>135.575515</td>\n",
       "      <td>2023-12-31 22:16:24</td>\n",
       "      <td>104</td>\n",
       "      <td>2024-01-01 00:00:00</td>\n",
       "      <td>64</td>\n",
       "      <td>train</td>\n",
       "      <td>34.680177</td>\n",
       "      <td>135.575084</td>\n",
       "      <td>2024-01-01 01:04:15</td>\n",
       "      <td>66</td>\n",
       "      <td>2024-01-01 02:10:13</td>\n",
       "      <td>6</td>\n",
       "      <td>34.677625</td>\n",
       "      <td>135.576437</td>\n",
       "      <td>34.685958</td>\n",
       "      <td>135.591313</td>\n",
       "    </tr>\n",
       "    <tr>\n",
       "      <th>1</th>\n",
       "      <td>3275d92ef18f9a6eb22f4d90536a1404</td>\n",
       "      <td>33.805680</td>\n",
       "      <td>132.809934</td>\n",
       "      <td>2023-12-31 23:27:53</td>\n",
       "      <td>32</td>\n",
       "      <td>2024-01-01 00:00:00</td>\n",
       "      <td>7</td>\n",
       "      <td>car</td>\n",
       "      <td>33.805680</td>\n",
       "      <td>132.809938</td>\n",
       "      <td>2024-01-01 00:07:15</td>\n",
       "      <td>101</td>\n",
       "      <td>2024-01-01 01:48:07</td>\n",
       "      <td>6</td>\n",
       "      <td>33.803458</td>\n",
       "      <td>132.802688</td>\n",
       "      <td>33.843542</td>\n",
       "      <td>132.778813</td>\n",
       "    </tr>\n",
       "    <tr>\n",
       "      <th>2</th>\n",
       "      <td>f2aacb3154cc40a0445d6bbd911933b5</td>\n",
       "      <td>36.543807</td>\n",
       "      <td>136.620889</td>\n",
       "      <td>2023-12-31 14:18:01</td>\n",
       "      <td>582</td>\n",
       "      <td>2024-01-01 00:00:01</td>\n",
       "      <td>4086</td>\n",
       "      <td>walk</td>\n",
       "      <td>36.543701</td>\n",
       "      <td>136.620727</td>\n",
       "      <td>2024-01-03 20:06:13</td>\n",
       "      <td>20037</td>\n",
       "      <td>2024-01-17 18:02:59</td>\n",
       "      <td>6</td>\n",
       "      <td>36.543542</td>\n",
       "      <td>136.613813</td>\n",
       "      <td>36.543542</td>\n",
       "      <td>136.613813</td>\n",
       "    </tr>\n",
       "    <tr>\n",
       "      <th>3</th>\n",
       "      <td>c21eeabbff24abdc6a5df55d524abc59</td>\n",
       "      <td>36.708401</td>\n",
       "      <td>137.359956</td>\n",
       "      <td>2023-12-31 23:36:55</td>\n",
       "      <td>23</td>\n",
       "      <td>2024-01-01 00:00:01</td>\n",
       "      <td>6</td>\n",
       "      <td>walk</td>\n",
       "      <td>36.708400</td>\n",
       "      <td>137.359956</td>\n",
       "      <td>2024-01-01 00:06:55</td>\n",
       "      <td>438</td>\n",
       "      <td>2024-01-01 07:24:58</td>\n",
       "      <td>6</td>\n",
       "      <td>36.710042</td>\n",
       "      <td>137.352688</td>\n",
       "      <td>36.586792</td>\n",
       "      <td>136.627688</td>\n",
       "    </tr>\n",
       "    <tr>\n",
       "      <th>4</th>\n",
       "      <td>a86b7d031dc964a774127bd6776af940</td>\n",
       "      <td>35.352004</td>\n",
       "      <td>134.948453</td>\n",
       "      <td>2023-12-31 16:47:35</td>\n",
       "      <td>432</td>\n",
       "      <td>2024-01-01 00:00:02</td>\n",
       "      <td>6</td>\n",
       "      <td>car</td>\n",
       "      <td>35.351999</td>\n",
       "      <td>134.948505</td>\n",
       "      <td>2024-01-01 00:06:08</td>\n",
       "      <td>586</td>\n",
       "      <td>2024-01-01 09:52:21</td>\n",
       "      <td>6</td>\n",
       "      <td>&lt;NA&gt;</td>\n",
       "      <td>&lt;NA&gt;</td>\n",
       "      <td>&lt;NA&gt;</td>\n",
       "      <td>&lt;NA&gt;</td>\n",
       "    </tr>\n",
       "  </tbody>\n",
       "</table>\n",
       "</div>"
      ],
      "text/plain": [
       "                          common_id  latitude_o  longitude_o  \\\n",
       "0  67e6401f1f6460684eed82521ce87f02   34.680007   135.575515   \n",
       "1  3275d92ef18f9a6eb22f4d90536a1404   33.805680   132.809934   \n",
       "2  f2aacb3154cc40a0445d6bbd911933b5   36.543807   136.620889   \n",
       "3  c21eeabbff24abdc6a5df55d524abc59   36.708401   137.359956   \n",
       "4  a86b7d031dc964a774127bd6776af940   35.352004   134.948453   \n",
       "\n",
       "        arrive_time_o  stay_time_o       depart_time_o  move_time   mode  \\\n",
       "0 2023-12-31 22:16:24          104 2024-01-01 00:00:00         64  train   \n",
       "1 2023-12-31 23:27:53           32 2024-01-01 00:00:00          7    car   \n",
       "2 2023-12-31 14:18:01          582 2024-01-01 00:00:01       4086   walk   \n",
       "3 2023-12-31 23:36:55           23 2024-01-01 00:00:01          6   walk   \n",
       "4 2023-12-31 16:47:35          432 2024-01-01 00:00:02          6    car   \n",
       "\n",
       "   latitude_d  longitude_d       arrive_time_d  stay_time_d  \\\n",
       "0   34.680177   135.575084 2024-01-01 01:04:15           66   \n",
       "1   33.805680   132.809938 2024-01-01 00:07:15          101   \n",
       "2   36.543701   136.620727 2024-01-03 20:06:13        20037   \n",
       "3   36.708400   137.359956 2024-01-01 00:06:55          438   \n",
       "4   35.351999   134.948505 2024-01-01 00:06:08          586   \n",
       "\n",
       "        depart_time_d  purpose_flg latitude_h longitude_h latitude_w  \\\n",
       "0 2024-01-01 02:10:13            6  34.677625  135.576437  34.685958   \n",
       "1 2024-01-01 01:48:07            6  33.803458  132.802688  33.843542   \n",
       "2 2024-01-17 18:02:59            6  36.543542  136.613813  36.543542   \n",
       "3 2024-01-01 07:24:58            6  36.710042  137.352688  36.586792   \n",
       "4 2024-01-01 09:52:21            6       <NA>        <NA>       <NA>   \n",
       "\n",
       "  longitude_w  \n",
       "0  135.591313  \n",
       "1  132.778813  \n",
       "2  136.613813  \n",
       "3  136.627688  \n",
       "4        <NA>  "
      ]
     },
     "execution_count": 7,
     "metadata": {},
     "output_type": "execute_result"
    }
   ],
   "source": [
    "df.head()"
   ]
  },
  {
   "cell_type": "code",
   "execution_count": 4,
   "metadata": {},
   "outputs": [],
   "source": [
    "import pandas as pd\n",
    "\n",
    "# Read Tourists List\n",
    "tourist_dataframe = pd.read_csv('E:\\\\IRP_noto_earthquake\\\\data\\\\processed\\\\tourists_common_ids.csv')"
   ]
  },
  {
   "cell_type": "code",
   "execution_count": 5,
   "metadata": {},
   "outputs": [
    {
     "data": {
      "text/plain": [
       "(423, 1)"
      ]
     },
     "execution_count": 5,
     "metadata": {},
     "output_type": "execute_result"
    }
   ],
   "source": [
    "tourist_dataframe.shape"
   ]
  },
  {
   "cell_type": "code",
   "execution_count": 6,
   "metadata": {},
   "outputs": [
    {
     "data": {
      "text/html": [
       "<div>\n",
       "<style scoped>\n",
       "    .dataframe tbody tr th:only-of-type {\n",
       "        vertical-align: middle;\n",
       "    }\n",
       "\n",
       "    .dataframe tbody tr th {\n",
       "        vertical-align: top;\n",
       "    }\n",
       "\n",
       "    .dataframe thead th {\n",
       "        text-align: right;\n",
       "    }\n",
       "</style>\n",
       "<table border=\"1\" class=\"dataframe\">\n",
       "  <thead>\n",
       "    <tr style=\"text-align: right;\">\n",
       "      <th></th>\n",
       "      <th>common_id</th>\n",
       "    </tr>\n",
       "  </thead>\n",
       "  <tbody>\n",
       "    <tr>\n",
       "      <th>0</th>\n",
       "      <td>f0edd6b6f8212254055afccab3e01e7a</td>\n",
       "    </tr>\n",
       "    <tr>\n",
       "      <th>1</th>\n",
       "      <td>792a4f51-2d56-4aae-928c-2952d820a9b9</td>\n",
       "    </tr>\n",
       "    <tr>\n",
       "      <th>2</th>\n",
       "      <td>ef0b4dd70578af454b85241236309c86</td>\n",
       "    </tr>\n",
       "    <tr>\n",
       "      <th>3</th>\n",
       "      <td>62814c206e61f36f31cc5c7655c188d3</td>\n",
       "    </tr>\n",
       "    <tr>\n",
       "      <th>4</th>\n",
       "      <td>a3ef6efaef7fe36a18ce6bf105420d2c</td>\n",
       "    </tr>\n",
       "  </tbody>\n",
       "</table>\n",
       "</div>"
      ],
      "text/plain": [
       "                              common_id\n",
       "0      f0edd6b6f8212254055afccab3e01e7a\n",
       "1  792a4f51-2d56-4aae-928c-2952d820a9b9\n",
       "2      ef0b4dd70578af454b85241236309c86\n",
       "3      62814c206e61f36f31cc5c7655c188d3\n",
       "4      a3ef6efaef7fe36a18ce6bf105420d2c"
      ]
     },
     "execution_count": 6,
     "metadata": {},
     "output_type": "execute_result"
    }
   ],
   "source": [
    "tourist_dataframe.head()"
   ]
  },
  {
   "cell_type": "code",
   "execution_count": 14,
   "metadata": {},
   "outputs": [],
   "source": [
    "tourist_return_record = tourist_dataframe"
   ]
  },
  {
   "cell_type": "code",
   "execution_count": 16,
   "metadata": {},
   "outputs": [
    {
     "data": {
      "text/html": [
       "<div>\n",
       "<style scoped>\n",
       "    .dataframe tbody tr th:only-of-type {\n",
       "        vertical-align: middle;\n",
       "    }\n",
       "\n",
       "    .dataframe tbody tr th {\n",
       "        vertical-align: top;\n",
       "    }\n",
       "\n",
       "    .dataframe thead th {\n",
       "        text-align: right;\n",
       "    }\n",
       "</style>\n",
       "<table border=\"1\" class=\"dataframe\">\n",
       "  <thead>\n",
       "    <tr style=\"text-align: right;\">\n",
       "      <th></th>\n",
       "      <th>common_id</th>\n",
       "      <th>returned</th>\n",
       "      <th>returnedOn</th>\n",
       "    </tr>\n",
       "  </thead>\n",
       "  <tbody>\n",
       "    <tr>\n",
       "      <th>0</th>\n",
       "      <td>f0edd6b6f8212254055afccab3e01e7a</td>\n",
       "      <td>False</td>\n",
       "      <td>NaT</td>\n",
       "    </tr>\n",
       "    <tr>\n",
       "      <th>1</th>\n",
       "      <td>792a4f51-2d56-4aae-928c-2952d820a9b9</td>\n",
       "      <td>False</td>\n",
       "      <td>NaT</td>\n",
       "    </tr>\n",
       "    <tr>\n",
       "      <th>2</th>\n",
       "      <td>ef0b4dd70578af454b85241236309c86</td>\n",
       "      <td>False</td>\n",
       "      <td>NaT</td>\n",
       "    </tr>\n",
       "    <tr>\n",
       "      <th>3</th>\n",
       "      <td>62814c206e61f36f31cc5c7655c188d3</td>\n",
       "      <td>False</td>\n",
       "      <td>NaT</td>\n",
       "    </tr>\n",
       "    <tr>\n",
       "      <th>4</th>\n",
       "      <td>a3ef6efaef7fe36a18ce6bf105420d2c</td>\n",
       "      <td>False</td>\n",
       "      <td>NaT</td>\n",
       "    </tr>\n",
       "  </tbody>\n",
       "</table>\n",
       "</div>"
      ],
      "text/plain": [
       "                              common_id  returned returnedOn\n",
       "0      f0edd6b6f8212254055afccab3e01e7a     False        NaT\n",
       "1  792a4f51-2d56-4aae-928c-2952d820a9b9     False        NaT\n",
       "2      ef0b4dd70578af454b85241236309c86     False        NaT\n",
       "3      62814c206e61f36f31cc5c7655c188d3     False        NaT\n",
       "4      a3ef6efaef7fe36a18ce6bf105420d2c     False        NaT"
      ]
     },
     "execution_count": 16,
     "metadata": {},
     "output_type": "execute_result"
    }
   ],
   "source": [
    "tourist_return_record['returned'] = False\n",
    "tourist_return_record['returnedOn'] = pd.NaT\n",
    "tourist_return_record.head()"
   ]
  },
  {
   "cell_type": "code",
   "execution_count": 8,
   "metadata": {},
   "outputs": [
    {
     "data": {
      "text/plain": [
       "(1228, 18)"
      ]
     },
     "execution_count": 8,
     "metadata": {},
     "output_type": "execute_result"
    }
   ],
   "source": [
    "df_tourist = df[df['common_id'].isin(tourist_dataframe['common_id'])]\n",
    "df_tourist.shape"
   ]
  },
  {
   "cell_type": "code",
   "execution_count": 9,
   "metadata": {},
   "outputs": [
    {
     "data": {
      "text/html": [
       "<div>\n",
       "<style scoped>\n",
       "    .dataframe tbody tr th:only-of-type {\n",
       "        vertical-align: middle;\n",
       "    }\n",
       "\n",
       "    .dataframe tbody tr th {\n",
       "        vertical-align: top;\n",
       "    }\n",
       "\n",
       "    .dataframe thead th {\n",
       "        text-align: right;\n",
       "    }\n",
       "</style>\n",
       "<table border=\"1\" class=\"dataframe\">\n",
       "  <thead>\n",
       "    <tr style=\"text-align: right;\">\n",
       "      <th></th>\n",
       "      <th>common_id</th>\n",
       "      <th>latitude_o</th>\n",
       "      <th>longitude_o</th>\n",
       "      <th>arrive_time_o</th>\n",
       "      <th>stay_time_o</th>\n",
       "      <th>depart_time_o</th>\n",
       "      <th>move_time</th>\n",
       "      <th>mode</th>\n",
       "      <th>latitude_d</th>\n",
       "      <th>longitude_d</th>\n",
       "      <th>arrive_time_d</th>\n",
       "      <th>stay_time_d</th>\n",
       "      <th>depart_time_d</th>\n",
       "      <th>purpose_flg</th>\n",
       "      <th>latitude_h</th>\n",
       "      <th>longitude_h</th>\n",
       "      <th>latitude_w</th>\n",
       "      <th>longitude_w</th>\n",
       "    </tr>\n",
       "  </thead>\n",
       "  <tbody>\n",
       "    <tr>\n",
       "      <th>14</th>\n",
       "      <td>b42742fc1ea464a3c66a19c4b00ad603</td>\n",
       "      <td>36.896220</td>\n",
       "      <td>136.795218</td>\n",
       "      <td>2023-12-31 19:38:05</td>\n",
       "      <td>262</td>\n",
       "      <td>2024-01-01 00:00:11</td>\n",
       "      <td>51</td>\n",
       "      <td>car</td>\n",
       "      <td>36.896218</td>\n",
       "      <td>136.795423</td>\n",
       "      <td>2024-01-01 00:51:42</td>\n",
       "      <td>569</td>\n",
       "      <td>2024-01-01 10:20:59</td>\n",
       "      <td>1</td>\n",
       "      <td>36.895042</td>\n",
       "      <td>136.788938</td>\n",
       "      <td>36.895125</td>\n",
       "      <td>136.788813</td>\n",
       "    </tr>\n",
       "    <tr>\n",
       "      <th>69</th>\n",
       "      <td>f0edd6b6f8212254055afccab3e01e7a</td>\n",
       "      <td>37.090284</td>\n",
       "      <td>136.913888</td>\n",
       "      <td>2023-12-31 22:03:52</td>\n",
       "      <td>118</td>\n",
       "      <td>2024-01-01 00:01:25</td>\n",
       "      <td>305</td>\n",
       "      <td>car</td>\n",
       "      <td>37.090278</td>\n",
       "      <td>136.913713</td>\n",
       "      <td>2024-01-01 05:06:34</td>\n",
       "      <td>197</td>\n",
       "      <td>2024-01-01 08:24:01</td>\n",
       "      <td>4</td>\n",
       "      <td>34.469292</td>\n",
       "      <td>135.405063</td>\n",
       "      <td>34.469292</td>\n",
       "      <td>135.405063</td>\n",
       "    </tr>\n",
       "    <tr>\n",
       "      <th>113</th>\n",
       "      <td>792a4f51-2d56-4aae-928c-2952d820a9b9</td>\n",
       "      <td>36.984389</td>\n",
       "      <td>136.809213</td>\n",
       "      <td>2023-12-31 23:43:56</td>\n",
       "      <td>19</td>\n",
       "      <td>2024-01-01 00:02:41</td>\n",
       "      <td>12</td>\n",
       "      <td>car</td>\n",
       "      <td>36.984384</td>\n",
       "      <td>136.809174</td>\n",
       "      <td>2024-01-01 00:15:04</td>\n",
       "      <td>23</td>\n",
       "      <td>2024-01-01 00:38:01</td>\n",
       "      <td>5</td>\n",
       "      <td>36.502625</td>\n",
       "      <td>136.613813</td>\n",
       "      <td>36.502625</td>\n",
       "      <td>136.613813</td>\n",
       "    </tr>\n",
       "    <tr>\n",
       "      <th>269</th>\n",
       "      <td>193ece2acc31acf2f2a0bbb3be789655</td>\n",
       "      <td>36.522441</td>\n",
       "      <td>136.894921</td>\n",
       "      <td>2023-12-31 10:41:27</td>\n",
       "      <td>805</td>\n",
       "      <td>2024-01-01 00:06:09</td>\n",
       "      <td>26</td>\n",
       "      <td>car</td>\n",
       "      <td>36.522416</td>\n",
       "      <td>136.894923</td>\n",
       "      <td>2024-01-01 00:32:36</td>\n",
       "      <td>567</td>\n",
       "      <td>2024-01-01 09:59:19</td>\n",
       "      <td>6</td>\n",
       "      <td>36.520125</td>\n",
       "      <td>136.888937</td>\n",
       "      <td>36.520125</td>\n",
       "      <td>136.888937</td>\n",
       "    </tr>\n",
       "    <tr>\n",
       "      <th>293</th>\n",
       "      <td>ef0b4dd70578af454b85241236309c86</td>\n",
       "      <td>37.079951</td>\n",
       "      <td>136.934149</td>\n",
       "      <td>2023-12-31 23:16:52</td>\n",
       "      <td>50</td>\n",
       "      <td>2024-01-01 00:06:29</td>\n",
       "      <td>9</td>\n",
       "      <td>walk</td>\n",
       "      <td>37.080059</td>\n",
       "      <td>136.934179</td>\n",
       "      <td>2024-01-01 00:16:16</td>\n",
       "      <td>20</td>\n",
       "      <td>2024-01-01 00:36:37</td>\n",
       "      <td>2</td>\n",
       "      <td>36.559375</td>\n",
       "      <td>136.641312</td>\n",
       "      <td>36.628458</td>\n",
       "      <td>136.615188</td>\n",
       "    </tr>\n",
       "  </tbody>\n",
       "</table>\n",
       "</div>"
      ],
      "text/plain": [
       "                                common_id  latitude_o  longitude_o  \\\n",
       "14       b42742fc1ea464a3c66a19c4b00ad603   36.896220   136.795218   \n",
       "69       f0edd6b6f8212254055afccab3e01e7a   37.090284   136.913888   \n",
       "113  792a4f51-2d56-4aae-928c-2952d820a9b9   36.984389   136.809213   \n",
       "269      193ece2acc31acf2f2a0bbb3be789655   36.522441   136.894921   \n",
       "293      ef0b4dd70578af454b85241236309c86   37.079951   136.934149   \n",
       "\n",
       "          arrive_time_o  stay_time_o       depart_time_o  move_time  mode  \\\n",
       "14  2023-12-31 19:38:05          262 2024-01-01 00:00:11         51   car   \n",
       "69  2023-12-31 22:03:52          118 2024-01-01 00:01:25        305   car   \n",
       "113 2023-12-31 23:43:56           19 2024-01-01 00:02:41         12   car   \n",
       "269 2023-12-31 10:41:27          805 2024-01-01 00:06:09         26   car   \n",
       "293 2023-12-31 23:16:52           50 2024-01-01 00:06:29          9  walk   \n",
       "\n",
       "     latitude_d  longitude_d       arrive_time_d  stay_time_d  \\\n",
       "14    36.896218   136.795423 2024-01-01 00:51:42          569   \n",
       "69    37.090278   136.913713 2024-01-01 05:06:34          197   \n",
       "113   36.984384   136.809174 2024-01-01 00:15:04           23   \n",
       "269   36.522416   136.894923 2024-01-01 00:32:36          567   \n",
       "293   37.080059   136.934179 2024-01-01 00:16:16           20   \n",
       "\n",
       "          depart_time_d  purpose_flg latitude_h longitude_h latitude_w  \\\n",
       "14  2024-01-01 10:20:59            1  36.895042  136.788938  36.895125   \n",
       "69  2024-01-01 08:24:01            4  34.469292  135.405063  34.469292   \n",
       "113 2024-01-01 00:38:01            5  36.502625  136.613813  36.502625   \n",
       "269 2024-01-01 09:59:19            6  36.520125  136.888937  36.520125   \n",
       "293 2024-01-01 00:36:37            2  36.559375  136.641312  36.628458   \n",
       "\n",
       "    longitude_w  \n",
       "14   136.788813  \n",
       "69   135.405063  \n",
       "113  136.613813  \n",
       "269  136.888937  \n",
       "293  136.615188  "
      ]
     },
     "execution_count": 9,
     "metadata": {},
     "output_type": "execute_result"
    }
   ],
   "source": [
    "df_tourist.head()"
   ]
  },
  {
   "cell_type": "code",
   "execution_count": 10,
   "metadata": {},
   "outputs": [],
   "source": [
    "from ishikawa_region_mapper import ishikawa_region_mapper\n",
    "map, jpn_adm2 = ishikawa_region_mapper()"
   ]
  },
  {
   "cell_type": "code",
   "execution_count": 11,
   "metadata": {},
   "outputs": [],
   "source": [
    "# Before earthquake happened, if left the region or destination was outside\n",
    "import geopandas as gpd\n",
    "import pandas as pd\n",
    "from shapely.geometry import Point\n",
    "\n",
    "def did_leave_the_region(df, jpn_adm2):\n",
    "    \n",
    "    # Convert DataFrame to GeoDataFrame with Points geometry\n",
    "    geometry_destination = [Point(xy) for xy in zip(df['longitude_d'], df['latitude_d'])]\n",
    "    gdf_destination = gpd.GeoDataFrame(df, geometry=geometry_destination, crs='EPSG:4326')\n",
    "\n",
    "    # Spatial join with GeoJSON shapefile to find points within the shapefile\n",
    "    gdf_destination_within_shape = gpd.sjoin(gdf_destination, jpn_adm2, op='within', how='inner')\n",
    "\n",
    "    # Identify indices of points that are within the shapefile\n",
    "    indices_within = gdf_destination_within_shape.index\n",
    "\n",
    "    # Filter the original DataFrame to keep only rows with destination outside the shapefile\n",
    "    filtered_df = df[~df.index.isin(indices_within)]\n",
    "\n",
    "    return filtered_df"
   ]
  },
  {
   "cell_type": "code",
   "execution_count": 17,
   "metadata": {},
   "outputs": [
    {
     "name": "stderr",
     "output_type": "stream",
     "text": [
      "e:\\IRP_noto_earthquake\\.venv\\lib\\site-packages\\IPython\\core\\interactiveshell.py:3577: FutureWarning: The `op` parameter is deprecated and will be removed in a future release. Please use the `predicate` parameter instead.\n",
      "  exec(code_obj, self.user_global_ns, self.user_ns)\n"
     ]
    },
    {
     "data": {
      "text/plain": [
       "(297, 18)"
      ]
     },
     "execution_count": 17,
     "metadata": {},
     "output_type": "execute_result"
    }
   ],
   "source": [
    "df_tourist_left_day1 = did_leave_the_region(df_tourist, jpn_adm2)\n",
    "df_tourist_left_day1.shape"
   ]
  },
  {
   "cell_type": "code",
   "execution_count": 18,
   "metadata": {},
   "outputs": [
    {
     "data": {
      "text/plain": [
       "(186, 1)"
      ]
     },
     "execution_count": 18,
     "metadata": {},
     "output_type": "execute_result"
    }
   ],
   "source": [
    "import pandas as pd\n",
    "\n",
    "# Assuming df_tourist_left_day1 is already defined\n",
    "\n",
    "# Keep only the 'common_id' column and ensure unique values\n",
    "df_tourist_left_day1_unique = df_tourist_left_day1[['common_id']].drop_duplicates()\n",
    "\n",
    "# Display the resulting dataframe\n",
    "df_tourist_left_day1_unique.shape\n"
   ]
  },
  {
   "cell_type": "code",
   "execution_count": 20,
   "metadata": {},
   "outputs": [
    {
     "data": {
      "text/html": [
       "<div>\n",
       "<style scoped>\n",
       "    .dataframe tbody tr th:only-of-type {\n",
       "        vertical-align: middle;\n",
       "    }\n",
       "\n",
       "    .dataframe tbody tr th {\n",
       "        vertical-align: top;\n",
       "    }\n",
       "\n",
       "    .dataframe thead th {\n",
       "        text-align: right;\n",
       "    }\n",
       "</style>\n",
       "<table border=\"1\" class=\"dataframe\">\n",
       "  <thead>\n",
       "    <tr style=\"text-align: right;\">\n",
       "      <th></th>\n",
       "      <th>common_id</th>\n",
       "    </tr>\n",
       "  </thead>\n",
       "  <tbody>\n",
       "    <tr>\n",
       "      <th>14</th>\n",
       "      <td>b42742fc1ea464a3c66a19c4b00ad603</td>\n",
       "    </tr>\n",
       "    <tr>\n",
       "      <th>269</th>\n",
       "      <td>193ece2acc31acf2f2a0bbb3be789655</td>\n",
       "    </tr>\n",
       "    <tr>\n",
       "      <th>662</th>\n",
       "      <td>85a110c29f2f59e8967dff08d20d5358</td>\n",
       "    </tr>\n",
       "    <tr>\n",
       "      <th>971</th>\n",
       "      <td>6c294b621c23fda5d9abba10160e9bbf</td>\n",
       "    </tr>\n",
       "    <tr>\n",
       "      <th>1435</th>\n",
       "      <td>792a4f51-2d56-4aae-928c-2952d820a9b9</td>\n",
       "    </tr>\n",
       "  </tbody>\n",
       "</table>\n",
       "</div>"
      ],
      "text/plain": [
       "                                 common_id\n",
       "14        b42742fc1ea464a3c66a19c4b00ad603\n",
       "269       193ece2acc31acf2f2a0bbb3be789655\n",
       "662       85a110c29f2f59e8967dff08d20d5358\n",
       "971       6c294b621c23fda5d9abba10160e9bbf\n",
       "1435  792a4f51-2d56-4aae-928c-2952d820a9b9"
      ]
     },
     "execution_count": 20,
     "metadata": {},
     "output_type": "execute_result"
    }
   ],
   "source": [
    "df_tourist_left_day1_unique.head()"
   ]
  },
  {
   "cell_type": "code",
   "execution_count": 21,
   "metadata": {},
   "outputs": [
    {
     "data": {
      "text/html": [
       "<div>\n",
       "<style scoped>\n",
       "    .dataframe tbody tr th:only-of-type {\n",
       "        vertical-align: middle;\n",
       "    }\n",
       "\n",
       "    .dataframe tbody tr th {\n",
       "        vertical-align: top;\n",
       "    }\n",
       "\n",
       "    .dataframe thead th {\n",
       "        text-align: right;\n",
       "    }\n",
       "</style>\n",
       "<table border=\"1\" class=\"dataframe\">\n",
       "  <thead>\n",
       "    <tr style=\"text-align: right;\">\n",
       "      <th></th>\n",
       "      <th>common_id</th>\n",
       "      <th>returned</th>\n",
       "      <th>returnedOn</th>\n",
       "    </tr>\n",
       "  </thead>\n",
       "  <tbody>\n",
       "    <tr>\n",
       "      <th>0</th>\n",
       "      <td>f0edd6b6f8212254055afccab3e01e7a</td>\n",
       "      <td>False</td>\n",
       "      <td>NaT</td>\n",
       "    </tr>\n",
       "    <tr>\n",
       "      <th>1</th>\n",
       "      <td>792a4f51-2d56-4aae-928c-2952d820a9b9</td>\n",
       "      <td>True</td>\n",
       "      <td>2024-01-01</td>\n",
       "    </tr>\n",
       "    <tr>\n",
       "      <th>2</th>\n",
       "      <td>ef0b4dd70578af454b85241236309c86</td>\n",
       "      <td>False</td>\n",
       "      <td>NaT</td>\n",
       "    </tr>\n",
       "    <tr>\n",
       "      <th>3</th>\n",
       "      <td>62814c206e61f36f31cc5c7655c188d3</td>\n",
       "      <td>False</td>\n",
       "      <td>NaT</td>\n",
       "    </tr>\n",
       "    <tr>\n",
       "      <th>4</th>\n",
       "      <td>a3ef6efaef7fe36a18ce6bf105420d2c</td>\n",
       "      <td>False</td>\n",
       "      <td>NaT</td>\n",
       "    </tr>\n",
       "  </tbody>\n",
       "</table>\n",
       "</div>"
      ],
      "text/plain": [
       "                              common_id  returned returnedOn\n",
       "0      f0edd6b6f8212254055afccab3e01e7a     False        NaT\n",
       "1  792a4f51-2d56-4aae-928c-2952d820a9b9      True 2024-01-01\n",
       "2      ef0b4dd70578af454b85241236309c86     False        NaT\n",
       "3      62814c206e61f36f31cc5c7655c188d3     False        NaT\n",
       "4      a3ef6efaef7fe36a18ce6bf105420d2c     False        NaT"
      ]
     },
     "execution_count": 21,
     "metadata": {},
     "output_type": "execute_result"
    }
   ],
   "source": [
    "tourist_return_record.loc[tourist_return_record['common_id'].isin(df_tourist_left_day1['common_id']), 'returned'] = True\n",
    "tourist_return_record.loc[tourist_return_record['common_id'].isin(df_tourist_left_day1['common_id']), 'returnedOn'] = pd.to_datetime('20240101')\n",
    "tourist_return_record.head()"
   ]
  },
  {
   "cell_type": "code",
   "execution_count": 22,
   "metadata": {},
   "outputs": [
    {
     "name": "stdout",
     "output_type": "stream",
     "text": [
      "Number of tourists who returned: 186\n"
     ]
    }
   ],
   "source": [
    "# Count the number of rows where returned is True\n",
    "count_returned_true = tourist_return_record['returned'].sum()\n",
    "\n",
    "print(\"Number of tourists who returned:\", count_returned_true)\n"
   ]
  },
  {
   "cell_type": "code",
   "execution_count": null,
   "metadata": {},
   "outputs": [],
   "source": [
    "count_returned_true = tourist_return_record['returned'].sum()"
   ]
  }
 ],
 "metadata": {
  "kernelspec": {
   "display_name": ".venv",
   "language": "python",
   "name": "python3"
  },
  "language_info": {
   "codemirror_mode": {
    "name": "ipython",
    "version": 3
   },
   "file_extension": ".py",
   "mimetype": "text/x-python",
   "name": "python",
   "nbconvert_exporter": "python",
   "pygments_lexer": "ipython3",
   "version": "3.10.1"
  }
 },
 "nbformat": 4,
 "nbformat_minor": 2
}
