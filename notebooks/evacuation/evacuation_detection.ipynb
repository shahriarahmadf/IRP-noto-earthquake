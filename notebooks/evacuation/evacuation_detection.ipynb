{
 "cells": [
  {
   "cell_type": "code",
   "execution_count": 1,
   "metadata": {},
   "outputs": [
    {
     "name": "stdout",
     "output_type": "stream",
     "text": [
      "1\n",
      "20240101 dataframe shape\n",
      "(85653, 18)\n"
     ]
    }
   ],
   "source": [
    "# DATA LOADING\n",
    "\n",
    "from utils.data_loader.mobility_data_loader import mobility_data_loader \n",
    "\n",
    "# Process whole dataset in to intermediate form\n",
    "dataframe = mobility_data_loader('20240101','20240101')"
   ]
  },
  {
   "cell_type": "code",
   "execution_count": 2,
   "metadata": {},
   "outputs": [],
   "source": [
    "df = dataframe['20240101']"
   ]
  },
  {
   "cell_type": "code",
   "execution_count": 3,
   "metadata": {},
   "outputs": [
    {
     "data": {
      "text/plain": [
       "(85653, 18)"
      ]
     },
     "execution_count": 3,
     "metadata": {},
     "output_type": "execute_result"
    }
   ],
   "source": [
    "df.shape"
   ]
  },
  {
   "cell_type": "code",
   "execution_count": 4,
   "metadata": {},
   "outputs": [],
   "source": [
    "from utils.folium_mapper.ishikawa_region_mapper import ishikawa_region_mapper\n",
    "map, jpn_adm2 = ishikawa_region_mapper()"
   ]
  },
  {
   "cell_type": "code",
   "execution_count": 15,
   "metadata": {},
   "outputs": [
    {
     "data": {
      "text/plain": [
       "(77696, 18)"
      ]
     },
     "execution_count": 15,
     "metadata": {},
     "output_type": "execute_result"
    }
   ],
   "source": [
    "# Drop rows where 'longitude_h' or 'latitude_h' is NA\n",
    "df_with_homes = df.dropna(subset=['longitude_h', 'latitude_h'])\n",
    "df_with_homes.shape"
   ]
  },
  {
   "cell_type": "code",
   "execution_count": null,
   "metadata": {},
   "outputs": [],
   "source": []
  },
  {
   "cell_type": "code",
   "execution_count": 16,
   "metadata": {},
   "outputs": [
    {
     "ename": "ImportError",
     "evalue": "cannot import name 'data_home_filter_by_region' from 'utils.data_filter.data_home_filter_by_region' (E:\\IRP_noto_earthquake\\utils\\data_filter\\data_home_filter_by_region.py)",
     "output_type": "error",
     "traceback": [
      "\u001b[1;31m---------------------------------------------------------------------------\u001b[0m",
      "\u001b[1;31mImportError\u001b[0m                               Traceback (most recent call last)",
      "Cell \u001b[1;32mIn[16], line 1\u001b[0m\n\u001b[1;32m----> 1\u001b[0m \u001b[38;5;28;01mfrom\u001b[39;00m \u001b[38;5;21;01mutils\u001b[39;00m\u001b[38;5;21;01m.\u001b[39;00m\u001b[38;5;21;01mdata_filter\u001b[39;00m\u001b[38;5;21;01m.\u001b[39;00m\u001b[38;5;21;01mdata_home_filter_by_region\u001b[39;00m \u001b[38;5;28;01mimport\u001b[39;00m data_home_filter_by_region\n\u001b[0;32m      3\u001b[0m df_home_inside_study_area \u001b[38;5;241m=\u001b[39m data_home_filter_by_region(df_with_homes, jpn_adm2, \u001b[38;5;28;01mTrue\u001b[39;00m)\n\u001b[0;32m      4\u001b[0m df_home_inside_study_area\u001b[38;5;241m.\u001b[39mshape\n",
      "\u001b[1;31mImportError\u001b[0m: cannot import name 'data_home_filter_by_region' from 'utils.data_filter.data_home_filter_by_region' (E:\\IRP_noto_earthquake\\utils\\data_filter\\data_home_filter_by_region.py)"
     ]
    }
   ],
   "source": [
    "from utils.data_filter.data_home_filter_by_region import data_home_filter_by_region\n",
    "\n",
    "df_home_inside_study_area = data_home_filter_by_region(df_with_homes, jpn_adm2, True)\n",
    "df_home_inside_study_area.shape"
   ]
  },
  {
   "cell_type": "code",
   "execution_count": 11,
   "metadata": {},
   "outputs": [
    {
     "data": {
      "text/plain": [
       "(1635, 18)"
      ]
     },
     "execution_count": 11,
     "metadata": {},
     "output_type": "execute_result"
    }
   ],
   "source": [
    "d.shape"
   ]
  },
  {
   "cell_type": "code",
   "execution_count": 12,
   "metadata": {},
   "outputs": [
    {
     "name": "stdout",
     "output_type": "stream",
     "text": [
      "Number of unique common_id in df_na_home: 561\n"
     ]
    }
   ],
   "source": [
    "# Count the number of unique common_id values in df_na_home\n",
    "unique_common_ids_home_inside = d['common_id'].nunique()\n",
    "\n",
    "print(\"Number of unique common_id in df_na_home:\", unique_common_ids_home_inside)"
   ]
  },
  {
   "cell_type": "code",
   "execution_count": null,
   "metadata": {},
   "outputs": [],
   "source": []
  }
 ],
 "metadata": {
  "kernelspec": {
   "display_name": ".venv",
   "language": "python",
   "name": "python3"
  },
  "language_info": {
   "codemirror_mode": {
    "name": "ipython",
    "version": 3
   },
   "file_extension": ".py",
   "mimetype": "text/x-python",
   "name": "python",
   "nbconvert_exporter": "python",
   "pygments_lexer": "ipython3",
   "version": "3.10.1"
  }
 },
 "nbformat": 4,
 "nbformat_minor": 2
}
