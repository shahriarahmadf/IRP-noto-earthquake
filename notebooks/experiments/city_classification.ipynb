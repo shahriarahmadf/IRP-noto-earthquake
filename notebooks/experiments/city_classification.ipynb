{
 "cells": [
  {
   "cell_type": "code",
   "execution_count": 1,
   "metadata": {},
   "outputs": [
    {
     "name": "stdout",
     "output_type": "stream",
     "text": [
      "1\n",
      "20240101 dataframe shape\n",
      "(85653, 18)\n"
     ]
    }
   ],
   "source": [
    "# DATA LOADING\n",
    "\n",
    "from utils.data_loader.mobility_data_loader import mobility_data_loader \n",
    "\n",
    "# Process whole dataset in to intermediate form\n",
    "dataframe = mobility_data_loader('20240101','20240101')"
   ]
  },
  {
   "cell_type": "code",
   "execution_count": 2,
   "metadata": {},
   "outputs": [],
   "source": [
    "df = dataframe['20240101']"
   ]
  },
  {
   "cell_type": "code",
   "execution_count": 3,
   "metadata": {},
   "outputs": [],
   "source": [
    "import geopandas as gpd\n",
    "# Replace 'path_to_your_shapefile.shp' with the actual path to your shapefile\n",
    "japan_shapefile = gpd.read_file('E:\\\\IRP_noto_earthquake\\\\data\\\\raw\\\\jpn_adm\\\\jpn_adm_2019_shp\\\\jpn_admbnda_adm2_2019.shp')\n",
    "japan_shapefile.crs = 'EPSG:4612'\n",
    "\n",
    "# # Filter specific administrative units\n",
    "# jpn_adm2 = jpn_adm2[\n",
    "#     (jpn_adm2['ADM2_EN'] == 'Suzu City') |\n",
    "#     (jpn_adm2['ADM2_EN'] == 'Anamizu-machi') |\n",
    "#     (jpn_adm2['ADM2_EN'] == 'Noto-cho') |\n",
    "#     (jpn_adm2['ADM2_EN'] == 'Wajima City') |\n",
    "#     (jpn_adm2['ADM2_EN'] == 'Shika-machi') |\n",
    "#     (jpn_adm2['ADM2_EN'] == 'Nanao City')\n",
    "# ]"
   ]
  },
  {
   "cell_type": "code",
   "execution_count": 4,
   "metadata": {},
   "outputs": [],
   "source": [
    "suzu = japan_shapefile[(japan_shapefile['ADM2_EN'] == 'Suzu City')]\n",
    "anamizu = japan_shapefile[(japan_shapefile['ADM2_EN'] == 'Anamizu-machi')]\n",
    "noto = japan_shapefile[(japan_shapefile['ADM2_EN'] == 'Noto-cho')]\n",
    "wajima = japan_shapefile[(japan_shapefile['ADM2_EN'] == 'Wajima City')]\n",
    "shika = japan_shapefile[(japan_shapefile['ADM2_EN'] == 'Shika-machi')]\n",
    "nanao = japan_shapefile[(japan_shapefile['ADM2_EN'] == 'Nanao City')]\n",
    "cities_shapefile = [suzu, anamizu, noto, wajima, shika, nanao]"
   ]
  },
  {
   "cell_type": "code",
   "execution_count": 5,
   "metadata": {},
   "outputs": [
    {
     "name": "stdout",
     "output_type": "stream",
     "text": [
      "<class 'str'>\n",
      "Suzu City\n"
     ]
    }
   ],
   "source": [
    "print(type(suzu['ADM2_EN'].iloc[0]))\n",
    "print(suzu['ADM2_EN'].iloc[0])"
   ]
  },
  {
   "cell_type": "code",
   "execution_count": 6,
   "metadata": {},
   "outputs": [
    {
     "data": {
      "text/html": [
       "<div>\n",
       "<style scoped>\n",
       "    .dataframe tbody tr th:only-of-type {\n",
       "        vertical-align: middle;\n",
       "    }\n",
       "\n",
       "    .dataframe tbody tr th {\n",
       "        vertical-align: top;\n",
       "    }\n",
       "\n",
       "    .dataframe thead th {\n",
       "        text-align: right;\n",
       "    }\n",
       "</style>\n",
       "<table border=\"1\" class=\"dataframe\">\n",
       "  <thead>\n",
       "    <tr style=\"text-align: right;\">\n",
       "      <th></th>\n",
       "      <th>common_id</th>\n",
       "      <th>mesh_o</th>\n",
       "      <th>latitude_o</th>\n",
       "      <th>longitude_o</th>\n",
       "      <th>arrive_time_o</th>\n",
       "      <th>stay_time_o</th>\n",
       "      <th>depart_time_o</th>\n",
       "      <th>move_time</th>\n",
       "      <th>mode</th>\n",
       "      <th>mesh_d</th>\n",
       "      <th>...</th>\n",
       "      <th>poi_home</th>\n",
       "      <th>poi_work</th>\n",
       "      <th>purpose_flg</th>\n",
       "      <th>latitude_h</th>\n",
       "      <th>longitude_h</th>\n",
       "      <th>latitude_w</th>\n",
       "      <th>longitude_w</th>\n",
       "      <th>distance_oh</th>\n",
       "      <th>distance_dh</th>\n",
       "      <th>distance_od</th>\n",
       "    </tr>\n",
       "  </thead>\n",
       "  <tbody>\n",
       "    <tr>\n",
       "      <th>983</th>\n",
       "      <td>00088e962aac9466cb1e123f614a0bc2</td>\n",
       "      <td>54366591114</td>\n",
       "      <td>36.576562</td>\n",
       "      <td>136.639863</td>\n",
       "      <td>2023-12-31 21:16:31</td>\n",
       "      <td>187</td>\n",
       "      <td>2024-01-01 00:23:58</td>\n",
       "      <td>8</td>\n",
       "      <td>walk</td>\n",
       "      <td>54367500112</td>\n",
       "      <td>...</td>\n",
       "      <td>5.436659e+10</td>\n",
       "      <td>5.436659e+10</td>\n",
       "      <td>6</td>\n",
       "      <td>36.575958</td>\n",
       "      <td>136.638937</td>\n",
       "      <td>36.575958</td>\n",
       "      <td>136.638937</td>\n",
       "      <td>0.106486</td>\n",
       "      <td>1.318467</td>\n",
       "      <td>1.34</td>\n",
       "    </tr>\n",
       "    <tr>\n",
       "      <th>3446</th>\n",
       "      <td>00088e962aac9466cb1e123f614a0bc2</td>\n",
       "      <td>54367500112</td>\n",
       "      <td>36.583585</td>\n",
       "      <td>136.627631</td>\n",
       "      <td>2024-01-01 00:32:03</td>\n",
       "      <td>82</td>\n",
       "      <td>2024-01-01 01:54:30</td>\n",
       "      <td>6</td>\n",
       "      <td>NaN</td>\n",
       "      <td>54366591114</td>\n",
       "      <td>...</td>\n",
       "      <td>5.436659e+10</td>\n",
       "      <td>5.436659e+10</td>\n",
       "      <td>6</td>\n",
       "      <td>36.575958</td>\n",
       "      <td>136.638937</td>\n",
       "      <td>36.575958</td>\n",
       "      <td>136.638937</td>\n",
       "      <td>1.318467</td>\n",
       "      <td>0.053523</td>\n",
       "      <td>1.30</td>\n",
       "    </tr>\n",
       "    <tr>\n",
       "      <th>4902</th>\n",
       "      <td>00088e962aac9466cb1e123f614a0bc2</td>\n",
       "      <td>54366591114</td>\n",
       "      <td>36.576425</td>\n",
       "      <td>136.639084</td>\n",
       "      <td>2024-01-01 02:00:58</td>\n",
       "      <td>72</td>\n",
       "      <td>2024-01-01 03:13:00</td>\n",
       "      <td>11</td>\n",
       "      <td>car</td>\n",
       "      <td>54366591114</td>\n",
       "      <td>...</td>\n",
       "      <td>5.436659e+10</td>\n",
       "      <td>5.436659e+10</td>\n",
       "      <td>6</td>\n",
       "      <td>36.575958</td>\n",
       "      <td>136.638937</td>\n",
       "      <td>36.575958</td>\n",
       "      <td>136.638937</td>\n",
       "      <td>0.053523</td>\n",
       "      <td>0.048484</td>\n",
       "      <td>0.01</td>\n",
       "    </tr>\n",
       "    <tr>\n",
       "      <th>7777</th>\n",
       "      <td>00088e962aac9466cb1e123f614a0bc2</td>\n",
       "      <td>54366591114</td>\n",
       "      <td>36.576380</td>\n",
       "      <td>136.639075</td>\n",
       "      <td>2024-01-01 03:24:05</td>\n",
       "      <td>142</td>\n",
       "      <td>2024-01-01 05:46:21</td>\n",
       "      <td>33</td>\n",
       "      <td>car</td>\n",
       "      <td>54366591141</td>\n",
       "      <td>...</td>\n",
       "      <td>5.436659e+10</td>\n",
       "      <td>5.436659e+10</td>\n",
       "      <td>6</td>\n",
       "      <td>36.575958</td>\n",
       "      <td>136.638937</td>\n",
       "      <td>36.575958</td>\n",
       "      <td>136.638937</td>\n",
       "      <td>0.048484</td>\n",
       "      <td>0.21766</td>\n",
       "      <td>0.18</td>\n",
       "    </tr>\n",
       "    <tr>\n",
       "      <th>11961</th>\n",
       "      <td>00088e962aac9466cb1e123f614a0bc2</td>\n",
       "      <td>54366591141</td>\n",
       "      <td>36.577245</td>\n",
       "      <td>136.640775</td>\n",
       "      <td>2024-01-01 06:20:14</td>\n",
       "      <td>78</td>\n",
       "      <td>2024-01-01 07:37:56</td>\n",
       "      <td>14</td>\n",
       "      <td>walk</td>\n",
       "      <td>54366591114</td>\n",
       "      <td>...</td>\n",
       "      <td>5.436659e+10</td>\n",
       "      <td>5.436659e+10</td>\n",
       "      <td>6</td>\n",
       "      <td>36.575958</td>\n",
       "      <td>136.638937</td>\n",
       "      <td>36.575958</td>\n",
       "      <td>136.638937</td>\n",
       "      <td>0.21766</td>\n",
       "      <td>0.051321</td>\n",
       "      <td>0.18</td>\n",
       "    </tr>\n",
       "  </tbody>\n",
       "</table>\n",
       "<p>5 rows × 25 columns</p>\n",
       "</div>"
      ],
      "text/plain": [
       "                              common_id       mesh_o  latitude_o  longitude_o  \\\n",
       "983    00088e962aac9466cb1e123f614a0bc2  54366591114   36.576562   136.639863   \n",
       "3446   00088e962aac9466cb1e123f614a0bc2  54367500112   36.583585   136.627631   \n",
       "4902   00088e962aac9466cb1e123f614a0bc2  54366591114   36.576425   136.639084   \n",
       "7777   00088e962aac9466cb1e123f614a0bc2  54366591114   36.576380   136.639075   \n",
       "11961  00088e962aac9466cb1e123f614a0bc2  54366591141   36.577245   136.640775   \n",
       "\n",
       "            arrive_time_o  stay_time_o       depart_time_o  move_time  mode  \\\n",
       "983   2023-12-31 21:16:31          187 2024-01-01 00:23:58          8  walk   \n",
       "3446  2024-01-01 00:32:03           82 2024-01-01 01:54:30          6   NaN   \n",
       "4902  2024-01-01 02:00:58           72 2024-01-01 03:13:00         11   car   \n",
       "7777  2024-01-01 03:24:05          142 2024-01-01 05:46:21         33   car   \n",
       "11961 2024-01-01 06:20:14           78 2024-01-01 07:37:56         14  walk   \n",
       "\n",
       "            mesh_d  ...      poi_home      poi_work purpose_flg  latitude_h  \\\n",
       "983    54367500112  ...  5.436659e+10  5.436659e+10           6   36.575958   \n",
       "3446   54366591114  ...  5.436659e+10  5.436659e+10           6   36.575958   \n",
       "4902   54366591114  ...  5.436659e+10  5.436659e+10           6   36.575958   \n",
       "7777   54366591141  ...  5.436659e+10  5.436659e+10           6   36.575958   \n",
       "11961  54366591114  ...  5.436659e+10  5.436659e+10           6   36.575958   \n",
       "\n",
       "      longitude_h  latitude_w  longitude_w  distance_oh distance_dh  \\\n",
       "983    136.638937   36.575958   136.638937     0.106486    1.318467   \n",
       "3446   136.638937   36.575958   136.638937     1.318467    0.053523   \n",
       "4902   136.638937   36.575958   136.638937     0.053523    0.048484   \n",
       "7777   136.638937   36.575958   136.638937     0.048484     0.21766   \n",
       "11961  136.638937   36.575958   136.638937      0.21766    0.051321   \n",
       "\n",
       "      distance_od  \n",
       "983          1.34  \n",
       "3446         1.30  \n",
       "4902         0.01  \n",
       "7777         0.18  \n",
       "11961        0.18  \n",
       "\n",
       "[5 rows x 25 columns]"
      ]
     },
     "metadata": {},
     "output_type": "display_data"
    }
   ],
   "source": [
    "display(df.head())"
   ]
  },
  {
   "cell_type": "code",
   "execution_count": 7,
   "metadata": {},
   "outputs": [],
   "source": [
    "from utils.folium_mapper.ishikawa_region_mapper import ishikawa_region_mapper\n",
    "map, jpn_adm2 = ishikawa_region_mapper()"
   ]
  },
  {
   "cell_type": "code",
   "execution_count": 1,
   "metadata": {},
   "outputs": [
    {
     "ename": "NameError",
     "evalue": "name 'df' is not defined",
     "output_type": "error",
     "traceback": [
      "\u001b[1;31m---------------------------------------------------------------------------\u001b[0m",
      "\u001b[1;31mNameError\u001b[0m                                 Traceback (most recent call last)",
      "Cell \u001b[1;32mIn[1], line 2\u001b[0m\n\u001b[0;32m      1\u001b[0m \u001b[38;5;28;01mfrom\u001b[39;00m \u001b[38;5;21;01mutils\u001b[39;00m\u001b[38;5;21;01m.\u001b[39;00m\u001b[38;5;21;01mdata_filter\u001b[39;00m\u001b[38;5;21;01m.\u001b[39;00m\u001b[38;5;21;01mdata_home_filter_by_region\u001b[39;00m \u001b[38;5;28;01mimport\u001b[39;00m data_home_filter_by_region\n\u001b[1;32m----> 2\u001b[0m df \u001b[38;5;241m=\u001b[39m data_home_filter_by_region(\u001b[43mdf\u001b[49m, jpn_adm2, wantResidents\u001b[38;5;241m=\u001b[39m\u001b[38;5;28;01mTrue\u001b[39;00m, cityName\u001b[38;5;241m=\u001b[39m\u001b[38;5;28;01mFalse\u001b[39;00m, cityBuffered\u001b[38;5;241m=\u001b[39m\u001b[38;5;28;01mFalse\u001b[39;00m)\n\u001b[0;32m      3\u001b[0m df\u001b[38;5;241m.\u001b[39mshape\n",
      "\u001b[1;31mNameError\u001b[0m: name 'df' is not defined"
     ]
    }
   ],
   "source": [
    "from utils.data_filter.data_home_filter_by_region import data_home_filter_by_region\n",
    "df = data_home_filter_by_region(df, jpn_adm2, wantResidents=True, cityName=False, cityBuffered=False)\n",
    "df.shape"
   ]
  },
  {
   "cell_type": "code",
   "execution_count": 2,
   "metadata": {},
   "outputs": [
    {
     "ename": "NameError",
     "evalue": "name 'df' is not defined",
     "output_type": "error",
     "traceback": [
      "\u001b[1;31m---------------------------------------------------------------------------\u001b[0m",
      "\u001b[1;31mNameError\u001b[0m                                 Traceback (most recent call last)",
      "Cell \u001b[1;32mIn[2], line 1\u001b[0m\n\u001b[1;32m----> 1\u001b[0m display(\u001b[43mdf\u001b[49m\u001b[38;5;241m.\u001b[39mhead())\n",
      "\u001b[1;31mNameError\u001b[0m: name 'df' is not defined"
     ]
    }
   ],
   "source": [
    "display(df.head())"
   ]
  },
  {
   "cell_type": "code",
   "execution_count": 11,
   "metadata": {},
   "outputs": [
    {
     "name": "stderr",
     "output_type": "stream",
     "text": [
      "e:\\IRP_noto_earthquake\\.venv\\lib\\site-packages\\IPython\\core\\interactiveshell.py:3577: FutureWarning: The `op` parameter is deprecated and will be removed in a future release. Please use the `predicate` parameter instead.\n",
      "  exec(code_obj, self.user_global_ns, self.user_ns)\n",
      "E:\\IRP_noto_earthquake\\utils\\data_filter\\data_home_filter_by_region.py:43: FutureWarning: Setting an item of incompatible dtype is deprecated and will raise an error in a future version of pandas. Value '['Suzu City' 'Suzu City' 'Suzu City' 'Suzu City' 'Suzu City' 'Suzu City'\n",
      " 'Suzu City' 'Suzu City' 'Suzu City' 'Suzu City' 'Suzu City' 'Suzu City'\n",
      " 'Suzu City' 'Suzu City' 'Suzu City' 'Suzu City' 'Suzu City' 'Suzu City'\n",
      " 'Suzu City' 'Suzu City' 'Suzu City' 'Suzu City' 'Suzu City' 'Suzu City'\n",
      " 'Suzu City' 'Suzu City' 'Suzu City' 'Suzu City' 'Suzu City' 'Suzu City'\n",
      " 'Suzu City' 'Suzu City' 'Suzu City' 'Suzu City' 'Suzu City' 'Suzu City'\n",
      " 'Suzu City' 'Suzu City' 'Suzu City' 'Suzu City' 'Suzu City' 'Suzu City'\n",
      " 'Suzu City' 'Suzu City' 'Suzu City' 'Suzu City' 'Suzu City' 'Suzu City'\n",
      " 'Suzu City' 'Suzu City' 'Suzu City' 'Suzu City' 'Suzu City' 'Suzu City'\n",
      " 'Suzu City' 'Suzu City' 'Suzu City' 'Suzu City' 'Suzu City' 'Suzu City'\n",
      " 'Suzu City' 'Suzu City' 'Suzu City' 'Suzu City' 'Suzu City' 'Suzu City'\n",
      " 'Suzu City' 'Suzu City' 'Suzu City' 'Suzu City' 'Suzu City' 'Suzu City'\n",
      " 'Suzu City' 'Suzu City' 'Suzu City' 'Suzu City' 'Suzu City' 'Suzu City'\n",
      " 'Suzu City' 'Suzu City']' has dtype incompatible with float64, please explicitly cast to a compatible dtype first.\n",
      "  df.loc[indices_within_shape, 'home_city'] = df.loc[indices_within_shape, 'home_city'].apply(\n",
      "e:\\IRP_noto_earthquake\\.venv\\lib\\site-packages\\IPython\\core\\interactiveshell.py:3577: FutureWarning: The `op` parameter is deprecated and will be removed in a future release. Please use the `predicate` parameter instead.\n",
      "  exec(code_obj, self.user_global_ns, self.user_ns)\n",
      "e:\\IRP_noto_earthquake\\.venv\\lib\\site-packages\\IPython\\core\\interactiveshell.py:3577: FutureWarning: The `op` parameter is deprecated and will be removed in a future release. Please use the `predicate` parameter instead.\n",
      "  exec(code_obj, self.user_global_ns, self.user_ns)\n",
      "e:\\IRP_noto_earthquake\\.venv\\lib\\site-packages\\IPython\\core\\interactiveshell.py:3577: FutureWarning: The `op` parameter is deprecated and will be removed in a future release. Please use the `predicate` parameter instead.\n",
      "  exec(code_obj, self.user_global_ns, self.user_ns)\n",
      "e:\\IRP_noto_earthquake\\.venv\\lib\\site-packages\\IPython\\core\\interactiveshell.py:3577: FutureWarning: The `op` parameter is deprecated and will be removed in a future release. Please use the `predicate` parameter instead.\n",
      "  exec(code_obj, self.user_global_ns, self.user_ns)\n",
      "e:\\IRP_noto_earthquake\\.venv\\lib\\site-packages\\IPython\\core\\interactiveshell.py:3577: FutureWarning: The `op` parameter is deprecated and will be removed in a future release. Please use the `predicate` parameter instead.\n",
      "  exec(code_obj, self.user_global_ns, self.user_ns)\n"
     ]
    },
    {
     "data": {
      "text/plain": [
       "(1635, 26)"
      ]
     },
     "execution_count": 11,
     "metadata": {},
     "output_type": "execute_result"
    }
   ],
   "source": [
    "buffered = False\n",
    "for city_shapefile in cities_shapefile:\n",
    "    df = data_home_filter_by_region(df, city_shapefile, wantResidents=False, cityName=True, cityBuffered=buffered)\n",
    "\n",
    "df.shape"
   ]
  },
  {
   "cell_type": "code",
   "execution_count": 12,
   "metadata": {},
   "outputs": [
    {
     "name": "stdout",
     "output_type": "stream",
     "text": [
      "There are 104 NaN values in the 'home_city' column.\n",
      "There are 1531 non-NaN values in the 'home_city' column.\n"
     ]
    }
   ],
   "source": [
    "import pandas as pd\n",
    "\n",
    "# Assuming df is your DataFrame\n",
    "nan_count = df['home_city'].isna().sum()\n",
    "non_nan_count = df['home_city'].notna().sum()\n",
    "\n",
    "print(f\"There are {nan_count} NaN values in the 'home_city' column.\")\n",
    "print(f\"There are {non_nan_count} non-NaN values in the 'home_city' column.\")\n"
   ]
  },
  {
   "cell_type": "code",
   "execution_count": 13,
   "metadata": {},
   "outputs": [
    {
     "name": "stderr",
     "output_type": "stream",
     "text": [
      "e:\\IRP_noto_earthquake\\.venv\\lib\\site-packages\\geopandas\\geodataframe.py:1528: SettingWithCopyWarning: \n",
      "A value is trying to be set on a copy of a slice from a DataFrame.\n",
      "Try using .loc[row_indexer,col_indexer] = value instead\n",
      "\n",
      "See the caveats in the documentation: https://pandas.pydata.org/pandas-docs/stable/user_guide/indexing.html#returning-a-view-versus-a-copy\n",
      "  super().__setitem__(key, value)\n",
      "e:\\IRP_noto_earthquake\\.venv\\lib\\site-packages\\IPython\\core\\interactiveshell.py:3577: FutureWarning: The `op` parameter is deprecated and will be removed in a future release. Please use the `predicate` parameter instead.\n",
      "  exec(code_obj, self.user_global_ns, self.user_ns)\n",
      "e:\\IRP_noto_earthquake\\.venv\\lib\\site-packages\\geopandas\\geodataframe.py:1528: SettingWithCopyWarning: \n",
      "A value is trying to be set on a copy of a slice from a DataFrame.\n",
      "Try using .loc[row_indexer,col_indexer] = value instead\n",
      "\n",
      "See the caveats in the documentation: https://pandas.pydata.org/pandas-docs/stable/user_guide/indexing.html#returning-a-view-versus-a-copy\n",
      "  super().__setitem__(key, value)\n",
      "e:\\IRP_noto_earthquake\\.venv\\lib\\site-packages\\IPython\\core\\interactiveshell.py:3577: FutureWarning: The `op` parameter is deprecated and will be removed in a future release. Please use the `predicate` parameter instead.\n",
      "  exec(code_obj, self.user_global_ns, self.user_ns)\n",
      "e:\\IRP_noto_earthquake\\.venv\\lib\\site-packages\\geopandas\\geodataframe.py:1528: SettingWithCopyWarning: \n",
      "A value is trying to be set on a copy of a slice from a DataFrame.\n",
      "Try using .loc[row_indexer,col_indexer] = value instead\n",
      "\n",
      "See the caveats in the documentation: https://pandas.pydata.org/pandas-docs/stable/user_guide/indexing.html#returning-a-view-versus-a-copy\n",
      "  super().__setitem__(key, value)\n",
      "e:\\IRP_noto_earthquake\\.venv\\lib\\site-packages\\IPython\\core\\interactiveshell.py:3577: FutureWarning: The `op` parameter is deprecated and will be removed in a future release. Please use the `predicate` parameter instead.\n",
      "  exec(code_obj, self.user_global_ns, self.user_ns)\n",
      "e:\\IRP_noto_earthquake\\.venv\\lib\\site-packages\\geopandas\\geodataframe.py:1528: SettingWithCopyWarning: \n",
      "A value is trying to be set on a copy of a slice from a DataFrame.\n",
      "Try using .loc[row_indexer,col_indexer] = value instead\n",
      "\n",
      "See the caveats in the documentation: https://pandas.pydata.org/pandas-docs/stable/user_guide/indexing.html#returning-a-view-versus-a-copy\n",
      "  super().__setitem__(key, value)\n",
      "e:\\IRP_noto_earthquake\\.venv\\lib\\site-packages\\IPython\\core\\interactiveshell.py:3577: FutureWarning: The `op` parameter is deprecated and will be removed in a future release. Please use the `predicate` parameter instead.\n",
      "  exec(code_obj, self.user_global_ns, self.user_ns)\n",
      "e:\\IRP_noto_earthquake\\.venv\\lib\\site-packages\\geopandas\\geodataframe.py:1528: SettingWithCopyWarning: \n",
      "A value is trying to be set on a copy of a slice from a DataFrame.\n",
      "Try using .loc[row_indexer,col_indexer] = value instead\n",
      "\n",
      "See the caveats in the documentation: https://pandas.pydata.org/pandas-docs/stable/user_guide/indexing.html#returning-a-view-versus-a-copy\n",
      "  super().__setitem__(key, value)\n",
      "e:\\IRP_noto_earthquake\\.venv\\lib\\site-packages\\IPython\\core\\interactiveshell.py:3577: FutureWarning: The `op` parameter is deprecated and will be removed in a future release. Please use the `predicate` parameter instead.\n",
      "  exec(code_obj, self.user_global_ns, self.user_ns)\n",
      "e:\\IRP_noto_earthquake\\.venv\\lib\\site-packages\\geopandas\\geodataframe.py:1528: SettingWithCopyWarning: \n",
      "A value is trying to be set on a copy of a slice from a DataFrame.\n",
      "Try using .loc[row_indexer,col_indexer] = value instead\n",
      "\n",
      "See the caveats in the documentation: https://pandas.pydata.org/pandas-docs/stable/user_guide/indexing.html#returning-a-view-versus-a-copy\n",
      "  super().__setitem__(key, value)\n",
      "e:\\IRP_noto_earthquake\\.venv\\lib\\site-packages\\IPython\\core\\interactiveshell.py:3577: FutureWarning: The `op` parameter is deprecated and will be removed in a future release. Please use the `predicate` parameter instead.\n",
      "  exec(code_obj, self.user_global_ns, self.user_ns)\n"
     ]
    }
   ],
   "source": [
    "\n",
    "buffered = True\n",
    "for city_shapefile in cities_shapefile:\n",
    "    df = data_home_filter_by_region(df, city_shapefile, wantResidents=False, cityName=True, cityBuffered=buffered)\n"
   ]
  },
  {
   "cell_type": "code",
   "execution_count": 14,
   "metadata": {},
   "outputs": [
    {
     "name": "stdout",
     "output_type": "stream",
     "text": [
      "There are 0 NaN values in the 'home_city' column.\n",
      "There are 1635 non-NaN values in the 'home_city' column.\n"
     ]
    }
   ],
   "source": [
    "import pandas as pd\n",
    "\n",
    "# Assuming df is your DataFrame\n",
    "nan_count = df['home_city'].isna().sum()\n",
    "non_nan_count = df['home_city'].notna().sum()\n",
    "\n",
    "print(f\"There are {nan_count} NaN values in the 'home_city' column.\")\n",
    "print(f\"There are {non_nan_count} non-NaN values in the 'home_city' column.\")\n"
   ]
  }
 ],
 "metadata": {
  "kernelspec": {
   "display_name": ".venv",
   "language": "python",
   "name": "python3"
  },
  "language_info": {
   "codemirror_mode": {
    "name": "ipython",
    "version": 3
   },
   "file_extension": ".py",
   "mimetype": "text/x-python",
   "name": "python",
   "nbconvert_exporter": "python",
   "pygments_lexer": "ipython3",
   "version": "3.10.1"
  }
 },
 "nbformat": 4,
 "nbformat_minor": 2
}
