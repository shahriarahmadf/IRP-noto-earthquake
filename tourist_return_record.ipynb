{
 "cells": [
  {
   "cell_type": "code",
   "execution_count": 39,
   "metadata": {},
   "outputs": [
    {
     "name": "stdout",
     "output_type": "stream",
     "text": [
      "1\n",
      "20240101 dataframe shape\n",
      "(85653, 18)\n",
      "2\n",
      "20240102 dataframe shape\n",
      "(84857, 18)\n",
      "3\n",
      "20240103 dataframe shape\n",
      "(85335, 18)\n",
      "4\n",
      "20240104 dataframe shape\n",
      "(101273, 18)\n",
      "5\n",
      "20240105 dataframe shape\n",
      "(113529, 18)\n",
      "6\n",
      "20240106 dataframe shape\n",
      "(104928, 18)\n",
      "7\n",
      "20240107 dataframe shape\n",
      "(94203, 18)\n",
      "8\n",
      "20240108 dataframe shape\n",
      "(91534, 18)\n",
      "9\n",
      "20240109 dataframe shape\n",
      "(115631, 18)\n",
      "10\n",
      "20240110 dataframe shape\n",
      "(115583, 18)\n",
      "11\n",
      "20240111 dataframe shape\n",
      "(117350, 18)\n",
      "12\n",
      "20240112 dataframe shape\n",
      "(119567, 18)\n",
      "13\n",
      "20240113 dataframe shape\n",
      "(106789, 18)\n",
      "14\n",
      "20240114 dataframe shape\n",
      "(99355, 18)\n",
      "15\n",
      "20240115 dataframe shape\n",
      "(114665, 18)\n",
      "16\n",
      "20240116 dataframe shape\n",
      "(115293, 18)\n",
      "17\n",
      "20240117 dataframe shape\n",
      "(119302, 18)\n",
      "18\n",
      "20240118 dataframe shape\n",
      "(115119, 18)\n",
      "19\n",
      "20240119 dataframe shape\n",
      "(122319, 18)\n",
      "20\n",
      "20240120 dataframe shape\n",
      "(110519, 18)\n",
      "21\n",
      "20240121 dataframe shape\n",
      "(95166, 18)\n",
      "22\n",
      "20240122 dataframe shape\n",
      "(117317, 18)\n",
      "23\n",
      "20240123 dataframe shape\n",
      "(114325, 18)\n",
      "24\n",
      "20240124 dataframe shape\n",
      "(111372, 18)\n",
      "25\n",
      "20240125 dataframe shape\n",
      "(114876, 18)\n",
      "26\n",
      "20240126 dataframe shape\n",
      "(121748, 18)\n",
      "27\n",
      "20240127 dataframe shape\n",
      "(113147, 18)\n",
      "28\n",
      "20240128 dataframe shape\n",
      "(99002, 18)\n",
      "29\n",
      "20240129 dataframe shape\n",
      "(117013, 18)\n",
      "30\n",
      "20240130 dataframe shape\n",
      "(118667, 18)\n",
      "31\n",
      "20240131 dataframe shape\n",
      "(117670, 18)\n"
     ]
    }
   ],
   "source": [
    "# DATA LOADING\n",
    "\n",
    "from mobility_data_loader import mobility_data_loader\n",
    "\n",
    "# Process whole dataset into intermediate form\n",
    "dataframe = mobility_data_loader('20240101','20240131')"
   ]
  },
  {
   "cell_type": "code",
   "execution_count": 40,
   "metadata": {},
   "outputs": [
    {
     "name": "stdout",
     "output_type": "stream",
     "text": [
      "20240101 (85653, 18)\n",
      "20240102 (84857, 18)\n",
      "20240103 (85335, 18)\n",
      "20240104 (101273, 18)\n",
      "20240105 (113529, 18)\n",
      "20240106 (104928, 18)\n",
      "20240107 (94203, 18)\n",
      "20240108 (91534, 18)\n",
      "20240109 (115631, 18)\n",
      "20240110 (115583, 18)\n",
      "20240111 (117350, 18)\n",
      "20240112 (119567, 18)\n",
      "20240113 (106789, 18)\n",
      "20240114 (99355, 18)\n",
      "20240115 (114665, 18)\n",
      "20240116 (115293, 18)\n",
      "20240117 (119302, 18)\n",
      "20240118 (115119, 18)\n",
      "20240119 (122319, 18)\n",
      "20240120 (110519, 18)\n",
      "20240121 (95166, 18)\n",
      "20240122 (117317, 18)\n",
      "20240123 (114325, 18)\n",
      "20240124 (111372, 18)\n",
      "20240125 (114876, 18)\n",
      "20240126 (121748, 18)\n",
      "20240127 (113147, 18)\n",
      "20240128 (99002, 18)\n",
      "20240129 (117013, 18)\n",
      "20240130 (118667, 18)\n",
      "20240131 (117670, 18)\n"
     ]
    }
   ],
   "source": [
    "for date, df in dataframe.items():\n",
    "    print(date,df.shape)"
   ]
  },
  {
   "cell_type": "code",
   "execution_count": 56,
   "metadata": {},
   "outputs": [],
   "source": [
    "import pandas as pd\n",
    "\n",
    "# Read Tourists List\n",
    "tourist_dataframe = pd.read_csv('E:\\\\IRP_noto_earthquake\\\\data\\\\processed\\\\tourists_common_ids.csv')"
   ]
  },
  {
   "cell_type": "code",
   "execution_count": 57,
   "metadata": {},
   "outputs": [],
   "source": [
    "tourist_return_record = tourist_dataframe"
   ]
  },
  {
   "cell_type": "code",
   "execution_count": 58,
   "metadata": {},
   "outputs": [
    {
     "data": {
      "text/html": [
       "<div>\n",
       "<style scoped>\n",
       "    .dataframe tbody tr th:only-of-type {\n",
       "        vertical-align: middle;\n",
       "    }\n",
       "\n",
       "    .dataframe tbody tr th {\n",
       "        vertical-align: top;\n",
       "    }\n",
       "\n",
       "    .dataframe thead th {\n",
       "        text-align: right;\n",
       "    }\n",
       "</style>\n",
       "<table border=\"1\" class=\"dataframe\">\n",
       "  <thead>\n",
       "    <tr style=\"text-align: right;\">\n",
       "      <th></th>\n",
       "      <th>common_id</th>\n",
       "      <th>returned</th>\n",
       "      <th>returnedOn</th>\n",
       "    </tr>\n",
       "  </thead>\n",
       "  <tbody>\n",
       "    <tr>\n",
       "      <th>0</th>\n",
       "      <td>f0edd6b6f8212254055afccab3e01e7a</td>\n",
       "      <td>False</td>\n",
       "      <td>NaT</td>\n",
       "    </tr>\n",
       "    <tr>\n",
       "      <th>1</th>\n",
       "      <td>792a4f51-2d56-4aae-928c-2952d820a9b9</td>\n",
       "      <td>False</td>\n",
       "      <td>NaT</td>\n",
       "    </tr>\n",
       "    <tr>\n",
       "      <th>2</th>\n",
       "      <td>ef0b4dd70578af454b85241236309c86</td>\n",
       "      <td>False</td>\n",
       "      <td>NaT</td>\n",
       "    </tr>\n",
       "    <tr>\n",
       "      <th>3</th>\n",
       "      <td>62814c206e61f36f31cc5c7655c188d3</td>\n",
       "      <td>False</td>\n",
       "      <td>NaT</td>\n",
       "    </tr>\n",
       "    <tr>\n",
       "      <th>4</th>\n",
       "      <td>a3ef6efaef7fe36a18ce6bf105420d2c</td>\n",
       "      <td>False</td>\n",
       "      <td>NaT</td>\n",
       "    </tr>\n",
       "  </tbody>\n",
       "</table>\n",
       "</div>"
      ],
      "text/plain": [
       "                              common_id  returned returnedOn\n",
       "0      f0edd6b6f8212254055afccab3e01e7a     False        NaT\n",
       "1  792a4f51-2d56-4aae-928c-2952d820a9b9     False        NaT\n",
       "2      ef0b4dd70578af454b85241236309c86     False        NaT\n",
       "3      62814c206e61f36f31cc5c7655c188d3     False        NaT\n",
       "4      a3ef6efaef7fe36a18ce6bf105420d2c     False        NaT"
      ]
     },
     "execution_count": 58,
     "metadata": {},
     "output_type": "execute_result"
    }
   ],
   "source": [
    "tourist_return_record['returned'] = False\n",
    "tourist_return_record['returnedOn'] = pd.NaT\n",
    "tourist_return_record.head()"
   ]
  },
  {
   "cell_type": "code",
   "execution_count": 73,
   "metadata": {},
   "outputs": [
    {
     "data": {
      "text/plain": [
       "(423, 3)"
      ]
     },
     "execution_count": 73,
     "metadata": {},
     "output_type": "execute_result"
    }
   ],
   "source": [
    "tourist_return_record.shape"
   ]
  },
  {
   "cell_type": "code",
   "execution_count": 59,
   "metadata": {},
   "outputs": [],
   "source": [
    "from ishikawa_region_mapper import ishikawa_region_mapper\n",
    "map, jpn_adm2 = ishikawa_region_mapper()"
   ]
  },
  {
   "cell_type": "code",
   "execution_count": 60,
   "metadata": {},
   "outputs": [],
   "source": [
    "# Before earthquake happened, if left the region or destination was outside\n",
    "import geopandas as gpd\n",
    "import pandas as pd\n",
    "from shapely.geometry import Point\n",
    "\n",
    "def did_leave_the_region(df, jpn_adm2):\n",
    "    \n",
    "    # Convert DataFrame to GeoDataFrame with Points geometry\n",
    "    geometry_destination = [Point(xy) for xy in zip(df['longitude_d'], df['latitude_d'])]\n",
    "    gdf_destination = gpd.GeoDataFrame(df, geometry=geometry_destination, crs='EPSG:4326')\n",
    "\n",
    "    # Spatial join with GeoJSON shapefile to find points within the shapefile\n",
    "    gdf_destination_within_shape = gpd.sjoin(gdf_destination, jpn_adm2, op='within', how='inner')\n",
    "\n",
    "    # Identify indices of points that are within the shapefile\n",
    "    indices_within = gdf_destination_within_shape.index\n",
    "\n",
    "    # Filter the original DataFrame to keep only rows with destination outside the shapefile\n",
    "    filtered_df = df[~df.index.isin(indices_within)]\n",
    "\n",
    "    return filtered_df"
   ]
  },
  {
   "cell_type": "code",
   "execution_count": 61,
   "metadata": {},
   "outputs": [
    {
     "name": "stdout",
     "output_type": "stream",
     "text": [
      "20240101\n",
      "(1228, 18)\n",
      "Number of tourists who returned: 186\n",
      "20240102\n",
      "(591, 18)\n"
     ]
    },
    {
     "name": "stderr",
     "output_type": "stream",
     "text": [
      "e:\\IRP_noto_earthquake\\.venv\\lib\\site-packages\\IPython\\core\\interactiveshell.py:3577: FutureWarning: The `op` parameter is deprecated and will be removed in a future release. Please use the `predicate` parameter instead.\n",
      "  exec(code_obj, self.user_global_ns, self.user_ns)\n",
      "e:\\IRP_noto_earthquake\\.venv\\lib\\site-packages\\IPython\\core\\interactiveshell.py:3577: FutureWarning: The `op` parameter is deprecated and will be removed in a future release. Please use the `predicate` parameter instead.\n",
      "  exec(code_obj, self.user_global_ns, self.user_ns)\n",
      "e:\\IRP_noto_earthquake\\.venv\\lib\\site-packages\\IPython\\core\\interactiveshell.py:3577: FutureWarning: The `op` parameter is deprecated and will be removed in a future release. Please use the `predicate` parameter instead.\n",
      "  exec(code_obj, self.user_global_ns, self.user_ns)\n"
     ]
    },
    {
     "name": "stdout",
     "output_type": "stream",
     "text": [
      "Number of tourists who returned: 278\n",
      "20240103\n",
      "(295, 18)\n",
      "Number of tourists who returned: 336\n",
      "20240104\n",
      "(161, 18)\n",
      "Number of tourists who returned: 364\n",
      "20240105\n"
     ]
    },
    {
     "name": "stderr",
     "output_type": "stream",
     "text": [
      "e:\\IRP_noto_earthquake\\.venv\\lib\\site-packages\\IPython\\core\\interactiveshell.py:3577: FutureWarning: The `op` parameter is deprecated and will be removed in a future release. Please use the `predicate` parameter instead.\n",
      "  exec(code_obj, self.user_global_ns, self.user_ns)\n",
      "e:\\IRP_noto_earthquake\\.venv\\lib\\site-packages\\IPython\\core\\interactiveshell.py:3577: FutureWarning: The `op` parameter is deprecated and will be removed in a future release. Please use the `predicate` parameter instead.\n",
      "  exec(code_obj, self.user_global_ns, self.user_ns)\n"
     ]
    },
    {
     "name": "stdout",
     "output_type": "stream",
     "text": [
      "(104, 18)\n",
      "Number of tourists who returned: 382\n",
      "20240106\n",
      "(67, 18)\n",
      "Number of tourists who returned: 393\n",
      "20240107\n"
     ]
    },
    {
     "name": "stderr",
     "output_type": "stream",
     "text": [
      "e:\\IRP_noto_earthquake\\.venv\\lib\\site-packages\\IPython\\core\\interactiveshell.py:3577: FutureWarning: The `op` parameter is deprecated and will be removed in a future release. Please use the `predicate` parameter instead.\n",
      "  exec(code_obj, self.user_global_ns, self.user_ns)\n",
      "e:\\IRP_noto_earthquake\\.venv\\lib\\site-packages\\IPython\\core\\interactiveshell.py:3577: FutureWarning: The `op` parameter is deprecated and will be removed in a future release. Please use the `predicate` parameter instead.\n",
      "  exec(code_obj, self.user_global_ns, self.user_ns)\n"
     ]
    },
    {
     "name": "stdout",
     "output_type": "stream",
     "text": [
      "(54, 18)\n",
      "Number of tourists who returned: 399\n",
      "20240108\n",
      "(40, 18)\n",
      "Number of tourists who returned: 401\n",
      "20240109\n"
     ]
    },
    {
     "name": "stderr",
     "output_type": "stream",
     "text": [
      "e:\\IRP_noto_earthquake\\.venv\\lib\\site-packages\\IPython\\core\\interactiveshell.py:3577: FutureWarning: The `op` parameter is deprecated and will be removed in a future release. Please use the `predicate` parameter instead.\n",
      "  exec(code_obj, self.user_global_ns, self.user_ns)\n",
      "e:\\IRP_noto_earthquake\\.venv\\lib\\site-packages\\IPython\\core\\interactiveshell.py:3577: FutureWarning: The `op` parameter is deprecated and will be removed in a future release. Please use the `predicate` parameter instead.\n",
      "  exec(code_obj, self.user_global_ns, self.user_ns)\n"
     ]
    },
    {
     "name": "stdout",
     "output_type": "stream",
     "text": [
      "(45, 18)\n",
      "Number of tourists who returned: 402\n",
      "20240110\n",
      "(46, 18)\n",
      "Number of tourists who returned: 409\n",
      "20240111\n"
     ]
    },
    {
     "name": "stderr",
     "output_type": "stream",
     "text": [
      "e:\\IRP_noto_earthquake\\.venv\\lib\\site-packages\\IPython\\core\\interactiveshell.py:3577: FutureWarning: The `op` parameter is deprecated and will be removed in a future release. Please use the `predicate` parameter instead.\n",
      "  exec(code_obj, self.user_global_ns, self.user_ns)\n"
     ]
    },
    {
     "name": "stdout",
     "output_type": "stream",
     "text": [
      "(37, 18)\n",
      "Number of tourists who returned: 412\n",
      "20240112\n",
      "(30, 18)\n",
      "Number of tourists who returned: 413\n",
      "20240113\n"
     ]
    },
    {
     "name": "stderr",
     "output_type": "stream",
     "text": [
      "e:\\IRP_noto_earthquake\\.venv\\lib\\site-packages\\IPython\\core\\interactiveshell.py:3577: FutureWarning: The `op` parameter is deprecated and will be removed in a future release. Please use the `predicate` parameter instead.\n",
      "  exec(code_obj, self.user_global_ns, self.user_ns)\n",
      "e:\\IRP_noto_earthquake\\.venv\\lib\\site-packages\\IPython\\core\\interactiveshell.py:3577: FutureWarning: The `op` parameter is deprecated and will be removed in a future release. Please use the `predicate` parameter instead.\n",
      "  exec(code_obj, self.user_global_ns, self.user_ns)\n"
     ]
    },
    {
     "name": "stdout",
     "output_type": "stream",
     "text": [
      "(18, 18)\n",
      "Number of tourists who returned: 414\n",
      "20240114\n",
      "(21, 18)\n",
      "Number of tourists who returned: 415\n",
      "20240115\n",
      "(16, 18)\n",
      "Number of tourists who returned: 416\n",
      "20240116\n"
     ]
    },
    {
     "name": "stderr",
     "output_type": "stream",
     "text": [
      "e:\\IRP_noto_earthquake\\.venv\\lib\\site-packages\\IPython\\core\\interactiveshell.py:3577: FutureWarning: The `op` parameter is deprecated and will be removed in a future release. Please use the `predicate` parameter instead.\n",
      "  exec(code_obj, self.user_global_ns, self.user_ns)\n",
      "e:\\IRP_noto_earthquake\\.venv\\lib\\site-packages\\IPython\\core\\interactiveshell.py:3577: FutureWarning: The `op` parameter is deprecated and will be removed in a future release. Please use the `predicate` parameter instead.\n",
      "  exec(code_obj, self.user_global_ns, self.user_ns)\n",
      "e:\\IRP_noto_earthquake\\.venv\\lib\\site-packages\\IPython\\core\\interactiveshell.py:3577: FutureWarning: The `op` parameter is deprecated and will be removed in a future release. Please use the `predicate` parameter instead.\n",
      "  exec(code_obj, self.user_global_ns, self.user_ns)\n"
     ]
    },
    {
     "name": "stdout",
     "output_type": "stream",
     "text": [
      "(22, 18)\n",
      "Number of tourists who returned: 417\n",
      "20240117\n",
      "(15, 18)\n",
      "Number of tourists who returned: 419\n",
      "20240118\n",
      "(5, 18)\n",
      "Number of tourists who returned: 419\n",
      "20240119\n"
     ]
    },
    {
     "name": "stderr",
     "output_type": "stream",
     "text": [
      "e:\\IRP_noto_earthquake\\.venv\\lib\\site-packages\\IPython\\core\\interactiveshell.py:3577: FutureWarning: The `op` parameter is deprecated and will be removed in a future release. Please use the `predicate` parameter instead.\n",
      "  exec(code_obj, self.user_global_ns, self.user_ns)\n",
      "e:\\IRP_noto_earthquake\\.venv\\lib\\site-packages\\IPython\\core\\interactiveshell.py:3577: FutureWarning: The `op` parameter is deprecated and will be removed in a future release. Please use the `predicate` parameter instead.\n",
      "  exec(code_obj, self.user_global_ns, self.user_ns)\n",
      "e:\\IRP_noto_earthquake\\.venv\\lib\\site-packages\\IPython\\core\\interactiveshell.py:3577: FutureWarning: The `op` parameter is deprecated and will be removed in a future release. Please use the `predicate` parameter instead.\n",
      "  exec(code_obj, self.user_global_ns, self.user_ns)\n"
     ]
    },
    {
     "name": "stdout",
     "output_type": "stream",
     "text": [
      "(9, 18)\n",
      "Number of tourists who returned: 420\n",
      "20240120\n",
      "(0, 18)\n",
      "no travel\n",
      "20240121\n",
      "(0, 18)\n",
      "no travel\n",
      "20240122\n",
      "(0, 18)\n",
      "no travel\n",
      "20240123\n",
      "(0, 18)\n",
      "no travel\n",
      "20240124\n"
     ]
    },
    {
     "name": "stderr",
     "output_type": "stream",
     "text": [
      "e:\\IRP_noto_earthquake\\.venv\\lib\\site-packages\\IPython\\core\\interactiveshell.py:3577: FutureWarning: The `op` parameter is deprecated and will be removed in a future release. Please use the `predicate` parameter instead.\n",
      "  exec(code_obj, self.user_global_ns, self.user_ns)\n"
     ]
    },
    {
     "name": "stdout",
     "output_type": "stream",
     "text": [
      "(0, 18)\n",
      "no travel\n",
      "20240125\n",
      "(0, 18)\n",
      "no travel\n",
      "20240126\n",
      "(2, 18)\n",
      "Number of tourists who returned: 420\n",
      "20240127\n",
      "(1, 18)\n",
      "Number of tourists who returned: 420\n",
      "20240128\n",
      "(0, 18)\n",
      "no travel\n",
      "20240129\n",
      "(2, 18)\n",
      "Number of tourists who returned: 420\n",
      "20240130\n",
      "(2, 18)\n",
      "Number of tourists who returned: 420\n",
      "20240131\n",
      "(0, 18)\n",
      "no travel\n"
     ]
    },
    {
     "name": "stderr",
     "output_type": "stream",
     "text": [
      "e:\\IRP_noto_earthquake\\.venv\\lib\\site-packages\\IPython\\core\\interactiveshell.py:3577: FutureWarning: The `op` parameter is deprecated and will be removed in a future release. Please use the `predicate` parameter instead.\n",
      "  exec(code_obj, self.user_global_ns, self.user_ns)\n",
      "e:\\IRP_noto_earthquake\\.venv\\lib\\site-packages\\IPython\\core\\interactiveshell.py:3577: FutureWarning: The `op` parameter is deprecated and will be removed in a future release. Please use the `predicate` parameter instead.\n",
      "  exec(code_obj, self.user_global_ns, self.user_ns)\n",
      "e:\\IRP_noto_earthquake\\.venv\\lib\\site-packages\\IPython\\core\\interactiveshell.py:3577: FutureWarning: The `op` parameter is deprecated and will be removed in a future release. Please use the `predicate` parameter instead.\n",
      "  exec(code_obj, self.user_global_ns, self.user_ns)\n",
      "e:\\IRP_noto_earthquake\\.venv\\lib\\site-packages\\IPython\\core\\interactiveshell.py:3577: FutureWarning: The `op` parameter is deprecated and will be removed in a future release. Please use the `predicate` parameter instead.\n",
      "  exec(code_obj, self.user_global_ns, self.user_ns)\n"
     ]
    }
   ],
   "source": [
    "import pandas as pd\n",
    "\n",
    "for date, df in dataframe.items():\n",
    "    print(date)\n",
    "    \n",
    "    # Check if everyone returned\n",
    "    all_returned_true = tourist_return_record['returned'].all()\n",
    "    # print(all_returned_true)\n",
    "    if all_returned_true:\n",
    "        break\n",
    "\n",
    "    # # Keep travels for only tourists\n",
    "    df = df[df['common_id'].isin(tourist_return_record[tourist_return_record['returned'] == False]['common_id'])]\n",
    "    print(df.shape)\n",
    "    \n",
    "    # If tourists did not travel on the current day\n",
    "    if df.empty:\n",
    "        print('no travel')\n",
    "        continue\n",
    "\n",
    "    # # Get tourists who left\n",
    "    df_tourist_left_on_current_day = did_leave_the_region(df, jpn_adm2)\n",
    "    # print(df_tourist_left_on_current_day.shape)\n",
    "\n",
    "    # Keep only the 'common_id' column and ensure unique values\n",
    "    df_tourist_left_on_current_day = df_tourist_left_on_current_day[['common_id']].drop_duplicates()\n",
    "    # print(df_tourist_left_on_current_day.shape)\n",
    "\n",
    "    # # Set returned to True and set the date on record dataframe\n",
    "    tourist_return_record.loc[tourist_return_record['common_id'].isin(df_tourist_left_on_current_day['common_id']), 'returned'] = True\n",
    "    tourist_return_record.loc[tourist_return_record['common_id'].isin(df_tourist_left_on_current_day['common_id']), 'returnedOn'] = pd.to_datetime(date)\n",
    "\n",
    "    # Count the number of rows where returned is True\n",
    "    count_returned_true = tourist_return_record['returned'].sum()\n",
    "\n",
    "    print(\"Number of tourists who returned:\", count_returned_true)"
   ]
  },
  {
   "cell_type": "code",
   "execution_count": 62,
   "metadata": {},
   "outputs": [
    {
     "data": {
      "text/html": [
       "<div>\n",
       "<style scoped>\n",
       "    .dataframe tbody tr th:only-of-type {\n",
       "        vertical-align: middle;\n",
       "    }\n",
       "\n",
       "    .dataframe tbody tr th {\n",
       "        vertical-align: top;\n",
       "    }\n",
       "\n",
       "    .dataframe thead th {\n",
       "        text-align: right;\n",
       "    }\n",
       "</style>\n",
       "<table border=\"1\" class=\"dataframe\">\n",
       "  <thead>\n",
       "    <tr style=\"text-align: right;\">\n",
       "      <th></th>\n",
       "      <th>common_id</th>\n",
       "      <th>returned</th>\n",
       "      <th>returnedOn</th>\n",
       "    </tr>\n",
       "  </thead>\n",
       "  <tbody>\n",
       "    <tr>\n",
       "      <th>0</th>\n",
       "      <td>f0edd6b6f8212254055afccab3e01e7a</td>\n",
       "      <td>True</td>\n",
       "      <td>2024-01-02</td>\n",
       "    </tr>\n",
       "    <tr>\n",
       "      <th>1</th>\n",
       "      <td>792a4f51-2d56-4aae-928c-2952d820a9b9</td>\n",
       "      <td>True</td>\n",
       "      <td>2024-01-01</td>\n",
       "    </tr>\n",
       "    <tr>\n",
       "      <th>2</th>\n",
       "      <td>ef0b4dd70578af454b85241236309c86</td>\n",
       "      <td>True</td>\n",
       "      <td>2024-01-02</td>\n",
       "    </tr>\n",
       "    <tr>\n",
       "      <th>3</th>\n",
       "      <td>62814c206e61f36f31cc5c7655c188d3</td>\n",
       "      <td>True</td>\n",
       "      <td>2024-01-02</td>\n",
       "    </tr>\n",
       "    <tr>\n",
       "      <th>4</th>\n",
       "      <td>a3ef6efaef7fe36a18ce6bf105420d2c</td>\n",
       "      <td>True</td>\n",
       "      <td>2024-01-19</td>\n",
       "    </tr>\n",
       "  </tbody>\n",
       "</table>\n",
       "</div>"
      ],
      "text/plain": [
       "                              common_id  returned returnedOn\n",
       "0      f0edd6b6f8212254055afccab3e01e7a      True 2024-01-02\n",
       "1  792a4f51-2d56-4aae-928c-2952d820a9b9      True 2024-01-01\n",
       "2      ef0b4dd70578af454b85241236309c86      True 2024-01-02\n",
       "3      62814c206e61f36f31cc5c7655c188d3      True 2024-01-02\n",
       "4      a3ef6efaef7fe36a18ce6bf105420d2c      True 2024-01-19"
      ]
     },
     "execution_count": 62,
     "metadata": {},
     "output_type": "execute_result"
    }
   ],
   "source": [
    "tourist_return_record.head()"
   ]
  },
  {
   "cell_type": "code",
   "execution_count": 63,
   "metadata": {},
   "outputs": [],
   "source": [
    "# Filter out NaT (Not a Time) values\n",
    "df_filtered = tourist_return_record.dropna(subset=['returnedOn'])\n"
   ]
  },
  {
   "cell_type": "code",
   "execution_count": 64,
   "metadata": {},
   "outputs": [
    {
     "data": {
      "text/html": [
       "<div>\n",
       "<style scoped>\n",
       "    .dataframe tbody tr th:only-of-type {\n",
       "        vertical-align: middle;\n",
       "    }\n",
       "\n",
       "    .dataframe tbody tr th {\n",
       "        vertical-align: top;\n",
       "    }\n",
       "\n",
       "    .dataframe thead th {\n",
       "        text-align: right;\n",
       "    }\n",
       "</style>\n",
       "<table border=\"1\" class=\"dataframe\">\n",
       "  <thead>\n",
       "    <tr style=\"text-align: right;\">\n",
       "      <th></th>\n",
       "      <th>common_id</th>\n",
       "      <th>returned</th>\n",
       "      <th>returnedOn</th>\n",
       "    </tr>\n",
       "  </thead>\n",
       "  <tbody>\n",
       "    <tr>\n",
       "      <th>0</th>\n",
       "      <td>f0edd6b6f8212254055afccab3e01e7a</td>\n",
       "      <td>True</td>\n",
       "      <td>2024-01-02</td>\n",
       "    </tr>\n",
       "    <tr>\n",
       "      <th>1</th>\n",
       "      <td>792a4f51-2d56-4aae-928c-2952d820a9b9</td>\n",
       "      <td>True</td>\n",
       "      <td>2024-01-01</td>\n",
       "    </tr>\n",
       "    <tr>\n",
       "      <th>2</th>\n",
       "      <td>ef0b4dd70578af454b85241236309c86</td>\n",
       "      <td>True</td>\n",
       "      <td>2024-01-02</td>\n",
       "    </tr>\n",
       "    <tr>\n",
       "      <th>3</th>\n",
       "      <td>62814c206e61f36f31cc5c7655c188d3</td>\n",
       "      <td>True</td>\n",
       "      <td>2024-01-02</td>\n",
       "    </tr>\n",
       "    <tr>\n",
       "      <th>4</th>\n",
       "      <td>a3ef6efaef7fe36a18ce6bf105420d2c</td>\n",
       "      <td>True</td>\n",
       "      <td>2024-01-19</td>\n",
       "    </tr>\n",
       "  </tbody>\n",
       "</table>\n",
       "</div>"
      ],
      "text/plain": [
       "                              common_id  returned returnedOn\n",
       "0      f0edd6b6f8212254055afccab3e01e7a      True 2024-01-02\n",
       "1  792a4f51-2d56-4aae-928c-2952d820a9b9      True 2024-01-01\n",
       "2      ef0b4dd70578af454b85241236309c86      True 2024-01-02\n",
       "3      62814c206e61f36f31cc5c7655c188d3      True 2024-01-02\n",
       "4      a3ef6efaef7fe36a18ce6bf105420d2c      True 2024-01-19"
      ]
     },
     "execution_count": 64,
     "metadata": {},
     "output_type": "execute_result"
    }
   ],
   "source": [
    "df_filtered.head()"
   ]
  },
  {
   "cell_type": "code",
   "execution_count": 65,
   "metadata": {},
   "outputs": [
    {
     "name": "stdout",
     "output_type": "stream",
     "text": [
      "Count of True for different dates:\n",
      "returnedOn\n",
      "2024-01-01    186\n",
      "2024-01-02     92\n",
      "2024-01-03     58\n",
      "2024-01-04     28\n",
      "2024-01-05     18\n",
      "2024-01-06     11\n",
      "2024-01-10      7\n",
      "2024-01-07      6\n",
      "2024-01-11      3\n",
      "2024-01-08      2\n",
      "2024-01-17      2\n",
      "2024-01-14      1\n",
      "2024-01-15      1\n",
      "2024-01-09      1\n",
      "2024-01-16      1\n",
      "2024-01-13      1\n",
      "2024-01-19      1\n",
      "2024-01-12      1\n",
      "Name: count, dtype: int64\n"
     ]
    },
    {
     "name": "stderr",
     "output_type": "stream",
     "text": [
      "C:\\Users\\HP\\AppData\\Local\\Temp\\ipykernel_21120\\1406460321.py:2: SettingWithCopyWarning: \n",
      "A value is trying to be set on a copy of a slice from a DataFrame.\n",
      "Try using .loc[row_indexer,col_indexer] = value instead\n",
      "\n",
      "See the caveats in the documentation: https://pandas.pydata.org/pandas-docs/stable/user_guide/indexing.html#returning-a-view-versus-a-copy\n",
      "  df_filtered['returnedOn'] = pd.to_datetime(df_filtered['returnedOn'])\n"
     ]
    }
   ],
   "source": [
    "\n",
    "# Convert returnedOn to datetime format if it's not already\n",
    "df_filtered['returnedOn'] = pd.to_datetime(df_filtered['returnedOn'])\n",
    "\n",
    "# Filter for rows where returned is True\n",
    "returned_true = df_filtered[df_filtered['returned']]\n",
    "\n",
    "# Count occurrences of True for each returnedOn date\n",
    "counts = returned_true['returnedOn'].value_counts()\n",
    "\n",
    "# Print the counts for different dates\n",
    "print(\"Count of True for different dates:\")\n",
    "print(counts)"
   ]
  },
  {
   "cell_type": "code",
   "execution_count": 72,
   "metadata": {},
   "outputs": [
    {
     "data": {
      "text/plain": [
       "(420, 3)"
      ]
     },
     "execution_count": 72,
     "metadata": {},
     "output_type": "execute_result"
    }
   ],
   "source": [
    "returned_true.shape"
   ]
  },
  {
   "cell_type": "code",
   "execution_count": 79,
   "metadata": {},
   "outputs": [
    {
     "data": {
      "image/png": "[encoded data removed]",
      "text/plain": [
       "<Figure size 1000x600 with 1 Axes>"
      ]
     },
     "metadata": {},
     "output_type": "display_data"
    },
    {
     "ename": "",
     "evalue": "",
     "output_type": "error",
     "traceback": [
      "\u001b[1;31mThe Kernel crashed while executing code in the current cell or a previous cell. \n",
      "\u001b[1;31mPlease review the code in the cell(s) to identify a possible cause of the failure. \n",
      "\u001b[1;31mClick <a href='https://aka.ms/vscodeJupyterKernelCrash'>here</a> for more info. \n",
      "\u001b[1;31mView Jupyter <a href='command:jupyter.viewOutput'>log</a> for further details."
     ]
    }
   ],
   "source": [
    "import matplotlib.pyplot as plt\n",
    "\n",
    "\n",
    "# Count number of returns per date\n",
    "returns_by_date = df_filtered.groupby('returnedOn').size().reset_index(name='count')\n",
    "\n",
    "## Sort by date\n",
    "returns_by_date = returns_by_date.sort_values(by='returnedOn')\n",
    "\n",
    "# Plotting\n",
    "plt.figure(figsize=(10, 6))\n",
    "plt.bar(returns_by_date['returnedOn'], returns_by_date['count'], color='skyblue')\n",
    "plt.title('Number of Returns of Tourists Coming out of Study Area')\n",
    "plt.xlabel('At the end of January, 420 out of 423 tourists came out of Study Area')\n",
    "plt.ylabel('Number of Tourists')\n",
    "\n",
    "# Set x-axis ticks to every date from 1 to 31\n",
    "dates = pd.date_range(start='2024-01-01', end='2024-01-31')\n",
    "plt.xticks(dates, dates.strftime('%Y-%m-%d'), rotation=90)  # Format dates as 'YYYY-MM-DD' and rotate for better readability\n",
    "\n",
    "\n",
    "\n",
    "plt.grid()\n",
    "plt.tight_layout()\n",
    "plt.savefig('tourist_return_january.png')\n",
    "plt.show()\n"
   ]
  },
  {
   "cell_type": "code",
   "execution_count": null,
   "metadata": {},
   "outputs": [],
   "source": []
  }
 ],
 "metadata": {
  "kernelspec": {
   "display_name": ".venv",
   "language": "python",
   "name": "python3"
  },
  "language_info": {
   "codemirror_mode": {
    "name": "ipython",
    "version": 3
   },
   "file_extension": ".py",
   "mimetype": "text/x-python",
   "name": "python",
   "nbconvert_exporter": "python",
   "pygments_lexer": "ipython3",
   "version": "3.10.1"
  }
 },
 "nbformat": 4,
 "nbformat_minor": 2
}
